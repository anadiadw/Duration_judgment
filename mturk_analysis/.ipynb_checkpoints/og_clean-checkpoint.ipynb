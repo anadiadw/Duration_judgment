{
 "cells": [
  {
   "cell_type": "code",
   "execution_count": 12,
   "metadata": {},
   "outputs": [],
   "source": [
    "import pandas as pd\n",
    "import numpy as np\n",
    "import os\n",
    "from os import listdir\n",
    "import glob\n",
    "from glob import glob\n",
    "from os.path import isfile, join\n",
    "import shutil\n",
    "import PIL\n",
    "from PIL import Image\n",
    "import random\n",
    "import scipy as sp\n",
    "from scipy import stats\n",
    "import seaborn as sns\n",
    "from matplotlib import pyplot as plt\n",
    "import ptitprince as pt\n",
    "import matplotlib.collections as clt"
   ]
  },
  {
   "cell_type": "code",
   "execution_count": 13,
   "metadata": {},
   "outputs": [
    {
     "name": "stdout",
     "output_type": "stream",
     "text": [
      "PARTICIPANT_Duration_judgement_task_2023-10-11_18h11.54.127.csv is Empty csv file!\n",
      "PARTICIPANT_Duration_judgement_task_2023-10-31_13h41.09.283.csv is Empty csv file!\n",
      "PARTICIPANT_Duration_judgement_task_2023-10-31_13h42.35.044.csv is Empty csv file!\n",
      "PARTICIPANT_Duration_judgement_task_2023-11-24_22h23.52.408.csv is Empty csv file!\n",
      "PARTICIPANT_Duration_judgement_task_2023-11-24_22h40.10.238.csv is Empty csv file!\n",
      "PARTICIPANT_Duration_judgement_task_2023-11-25_10h43.00.971.csv is Empty csv file!\n",
      "PARTICIPANT_Duration_judgement_task_2023-11-25_11h01.00.790.csv is Empty csv file!\n",
      "PARTICIPANT_Duration_judgement_task_2023-11-25_11h58.00.585.csv is Empty csv file!\n",
      "PARTICIPANT_Duration_judgement_task_2023-11-25_12h09.33.041.csv is Empty csv file!\n",
      "PARTICIPANT_Duration_judgement_task_2023-11-25_14h02.23.362.csv is Empty csv file!\n",
      "PARTICIPANT_Duration_judgement_task_2023-11-25_14h04.33.916.csv is Empty csv file!\n",
      "PARTICIPANT_Duration_judgement_task_2023-11-25_14h07.18.582.csv is Empty csv file!\n",
      "PARTICIPANT_Duration_judgement_task_2023-11-25_14h08.54.984.csv is Empty csv file!\n",
      "PARTICIPANT_Duration_judgement_task_2023-11-25_14h34.15.921.csv is Empty csv file!\n",
      "PARTICIPANT_Duration_judgement_task_2023-11-25_14h36.16.322.csv is Empty csv file!\n",
      "PARTICIPANT_Duration_judgement_task_2023-11-25_16h41.10.237.csv is Empty csv file!\n",
      "PARTICIPANT_Duration_judgement_task_2023-11-25_17h38.03.317.csv is Empty csv file!\n",
      "PARTICIPANT_Duration_judgement_task_2023-11-25_18h39.29.042.csv is Empty csv file!\n",
      "PARTICIPANT_Duration_judgement_task_2023-11-25_18h42.06.041.csv is Empty csv file!\n",
      "PARTICIPANT_Duration_judgement_task_2023-11-26_01h04.13.570.csv is Empty csv file!\n",
      "PARTICIPANT_Duration_judgement_task_2023-11-26_10h32.47.138.csv is Empty csv file!\n",
      "PARTICIPANT_Duration_judgement_task_2023-11-28_09h42.07.562.csv is Empty csv file!\n",
      "PARTICIPANT_Duration_judgement_task_2023-11-28_10h01.21.565.csv is Empty csv file!\n",
      "PARTICIPANT_Duration_judgement_task_2023-11-28_13h44.58.704.csv is Empty csv file!\n"
     ]
    }
   ],
   "source": [
    "# remove absolute trash and other formats from dir\n",
    "main_dir = '/Users/ayesh/Desktop/Gradstuff/duration_judgement/mTurk_OGdata/data/'\n",
    "#data_dir = main_dir + 'data/'\n",
    "dir_files = [f for f in listdir(main_dir)]\n",
    "all_good = []\n",
    "for a in dir_files:\n",
    "    if a[-3:] == '.gz' or a[-3:]=='dat' or a[-3:] == 'log':\n",
    "        shutil.move(main_dir + a, main_dir + 'other_formats')\n",
    "    if a[-3:] == 'csv':\n",
    "        try:\n",
    "            one = pd.read_csv(main_dir + a)\n",
    "        except pd.errors.EmptyDataError:\n",
    "            print(a + ' is Empty csv file!')\n",
    "            shutil.move(main_dir + a, main_dir + 'trash')"
   ]
  },
  {
   "cell_type": "code",
   "execution_count": 19,
   "metadata": {},
   "outputs": [],
   "source": [
    "cln_dir = '/Users/ayesh/Desktop/Gradstuff/duration_judgement/mTurk_OGdata/data/'\n",
    "csvs = [f for f in listdir(cln_dir) if f[-3:] == 'csv']\n",
    "for a in csvs:\n",
    "    one = pd.read_csv(cln_dir + a, header = 0)\n",
    "    one.columns = one.columns.str.replace(\".\", \"_\")\n",
    "    if 'key_resp_11_keys' not in one.columns:\n",
    "        shutil.move(cln_dir + a, main_dir + 'trash')"
   ]
  },
  {
   "cell_type": "code",
   "execution_count": 20,
   "metadata": {},
   "outputs": [],
   "source": [
    "cln2_dir = '/Users/ayesh/Desktop/Gradstuff/duration_judgement/mTurk_OGdata/data/'\n",
    "csvs2 = [f for f in listdir(cln2_dir) if f[-3:] == 'csv']\n",
    "for a in csvs2:\n",
    "    if 1 in one.key_resp_11_keys:\n",
    "        shutil.move(main_dir + a, main_dir + 'actual_raw')\n",
    "    else:\n",
    "        shutil.move(main_dir + a, main_dir + 'trash')"
   ]
  },
  {
   "cell_type": "markdown",
   "metadata": {},
   "source": [
    "## cleannout caught trash! (catch trials)"
   ]
  },
  {
   "cell_type": "code",
   "execution_count": 21,
   "metadata": {},
   "outputs": [],
   "source": [
    "act_raw = '/Users/ayesh/Desktop/Gradstuff/duration_judgement/mTurk_OGdata/data/actual_raw/'\n",
    "pt_files = [f for f in listdir(act_raw) if f[-3:] == 'csv']\n",
    "passd = []\n",
    "for a in pt_files:\n",
    "    catch_trl = []\n",
    "    one = pd.read_csv(act_raw + a, header=0)\n",
    "    one.columns = one.columns.str.replace(\".\", \"_\")\n",
    "    for index, row in one.iterrows():\n",
    "        if one.condition[index] == \"catch\" and one.key_resp_5_keys[index] == \"space\":\n",
    "            catch_trl.append(row)\n",
    "    if len(catch_trl)>= 4:\n",
    "        passd.append(a + ' passed ' + str(len(catch_trl)))\n",
    "        shutil.move(act_raw + a, act_raw + 'worth')\n",
    "    else:\n",
    "        shutil.move(act_raw + a, act_raw + 'fails')"
   ]
  },
  {
   "cell_type": "code",
   "execution_count": 22,
   "metadata": {},
   "outputs": [
    {
     "data": {
      "text/plain": [
       "['A1153ZIEQX0ZJ8_color_task_2023-11-28_15h38.48.975.csv passed 5',\n",
       " 'A14W0AXTJ3R19V_color_task_2023-11-28_12h39.12.645.csv passed 5',\n",
       " 'A183WYXN12P2TJ_color_task_2023-11-28_12h58.49.361.csv passed 6',\n",
       " 'A1P6OXEJ86HQRM_color_task_2023-11-28_12h44.30.833.csv passed 4',\n",
       " 'A1YC558J4E5KZ_color_task_2023-11-28_13h42.53.986.csv passed 4',\n",
       " 'A1YTNGH5SMM2CJ_color_task_2023-11-28_13h15.21.127.csv passed 4',\n",
       " 'A1ZD9SJXQ9C6EW_color_task_2023-11-28_14h07.17.429.csv passed 6',\n",
       " 'A207IHY6GERCFO_color_task_2023-11-28_10h56.45.528.csv passed 4',\n",
       " 'A22KRF782ELLB0_color_task_2023-11-28_11h38.41.658.csv passed 4',\n",
       " 'A26UIS59SY4NM6_color_task_2023-11-28_09h57.54.665.csv passed 6',\n",
       " 'A27W025UEXS1G0_color_task_2023-11-28_12h42.18.940.csv passed 5',\n",
       " 'A2EI075XZT9Y2S_color_task_2023-11-28_12h46.37.685.csv passed 6',\n",
       " 'A2HOUSKURBF8UA_color_task_2023-11-28_12h40.58.354.csv passed 5',\n",
       " 'A2MCG5W6LHSRG9_color_task_2023-11-28_11h39.42.285.csv passed 6',\n",
       " 'A2S7ZT3VZBU2UA_color_task_2023-11-25_14h07.13.743.csv passed 4',\n",
       " 'A2VC1UC5Q0E9PO_color_task_2023-11-28_09h49.22.767.csv passed 5',\n",
       " 'A2VLTSW6CXIUMR_color_task_2023-11-25_14h03.14.769.csv passed 5',\n",
       " 'A30RAYNDOWQ61S_color_task_2023-11-28_11h47.03.248.csv passed 4',\n",
       " 'A3DW6KSQPG6GVQ_color_task_2023-11-25_14h05.37.829.csv passed 5',\n",
       " 'A3G55RJTW3BSGM_color_task_2023-11-28_13h13.18.199.csv passed 6',\n",
       " 'A3GK90X2QOFR53_color_task_2023-11-28_09h48.50.742.csv passed 4',\n",
       " 'A3HPLIWSXW3XV8_color_task_2023-11-28_13h32.32.531.csv passed 4',\n",
       " 'A3KP8KFGG6734Q_color_task_2023-11-25_09h56.35.944.csv passed 4',\n",
       " 'A3O81LHBBI8NPK_color_task_2023-11-28_12h14.59.690.csv passed 4',\n",
       " 'A3RLCGRXA34GC0_color_task_2023-11-28_12h47.11.641.csv passed 6',\n",
       " 'A3UV55HC87DO9C_color_task_2023-11-28_12h50.43.588.csv passed 4',\n",
       " 'A6JKKANO7F4KD_color_task_2023-11-28_10h49.22.523.csv passed 5',\n",
       " 'AA9V4NE8SOA4I_color_task_2023-11-28_09h44.35.295.csv passed 6',\n",
       " 'AGVUHOBSCP6YC_color_task_2023-11-28_11h39.12.932.csv passed 4',\n",
       " 'ANVAFB99K5RKP_color_task_2023-11-28_12h38.52.901.csv passed 4',\n",
       " 'AOAZMLP27GD81_color_task_2023-11-28_09h37.57.156.csv passed 4',\n",
       " 'AOIR8V07FYMH5_color_task_2023-11-28_12h07.41.797.csv passed 4',\n",
       " 'APGX2WZ59OWDN_color_task_2023-11-28_11h49.12.444.csv passed 6',\n",
       " 'AR1IWBDA7MC86_color_task_2023-11-28_11h46.58.769.csv passed 6',\n",
       " 'AUI3R928P63B0_color_task_2023-11-26_24h34.18.470.csv passed 4',\n",
       " 'AUQTHU5AOZVQC_color_task_2023-11-28_13h35.21.700.csv passed 6',\n",
       " 'AVPKE76DJLWK6_color_task_2023-11-28_10h22.25.757.csv passed 4',\n",
       " 'color_task_2023-11-25_11h05.36.115.csv passed 4',\n",
       " 'color_task_2023-11-28_07h44.06.099.csv passed 5',\n",
       " 'color_task_2023-11-28_09h41.28.802.csv passed 6',\n",
       " 'Greg_color_task_2023-11-26_12h35.58.076.csv passed 6']"
      ]
     },
     "execution_count": 22,
     "metadata": {},
     "output_type": "execute_result"
    }
   ],
   "source": [
    "passd"
   ]
  },
  {
   "cell_type": "code",
   "execution_count": null,
   "metadata": {},
   "outputs": [],
   "source": []
  }
 ],
 "metadata": {
  "kernelspec": {
   "display_name": "Python 3",
   "language": "python",
   "name": "python3"
  },
  "language_info": {
   "codemirror_mode": {
    "name": "ipython",
    "version": 3
   },
   "file_extension": ".py",
   "mimetype": "text/x-python",
   "name": "python",
   "nbconvert_exporter": "python",
   "pygments_lexer": "ipython3",
   "version": "3.8.5"
  }
 },
 "nbformat": 4,
 "nbformat_minor": 4
}
