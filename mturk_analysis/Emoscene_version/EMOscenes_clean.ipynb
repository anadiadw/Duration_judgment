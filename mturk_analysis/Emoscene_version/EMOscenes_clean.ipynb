{
 "cells": [
  {
   "cell_type": "code",
   "execution_count": 1,
   "metadata": {},
   "outputs": [],
   "source": [
    "import pandas as pd\n",
    "import numpy as np\n",
    "import os\n",
    "from os import listdir\n",
    "import glob\n",
    "from glob import glob\n",
    "from os.path import isfile, join\n",
    "import shutil\n",
    "import PIL\n",
    "from PIL import Image\n",
    "import random\n",
    "import scipy as sp\n",
    "from scipy import stats\n",
    "import seaborn as sns\n",
    "from matplotlib import pyplot as plt\n",
    "import ptitprince as pt\n",
    "import matplotlib.collections as clt"
   ]
  },
  {
   "cell_type": "code",
   "execution_count": 2,
   "metadata": {},
   "outputs": [
    {
     "name": "stdout",
     "output_type": "stream",
     "text": [
      "PARTICIPANT_emoscene_task_2023-12-18_12h24.49.928.csv is Empty csv file!\n",
      "PARTICIPANT_emoscene_task_2023-12-18_15h19.48.160.csv is Empty csv file!\n",
      "PARTICIPANT_emoscene_task_2023-12-18_19h28.24.031.csv is Empty csv file!\n",
      "PARTICIPANT_emoscene_task_2023-12-18_24h05.05.281.csv is Empty csv file!\n",
      "PARTICIPANT_emoscene_task_2023-12-18_24h22.30.642.csv is Empty csv file!\n",
      "PARTICIPANT_emoscene_task_2023-12-19_15h34.06.007.csv is Empty csv file!\n"
     ]
    }
   ],
   "source": [
    "# remove absolute trash and other formats from dir\n",
    "main_dir = '/Users/ayesh/Desktop/Gradstuff/duration_judgement/mTurk_OGdata/emoscene_data/'\n",
    "#data_dir = main_dir + 'data/'\n",
    "dir_files = [f for f in listdir(main_dir)]\n",
    "all_good = []\n",
    "for a in dir_files:\n",
    "    if a[-3:] == '.gz' or a[-3:]=='dat' or a[-3:] == 'log':\n",
    "        shutil.move(main_dir + a, main_dir + 'other_formats')\n",
    "    if a[-3:] == 'csv':\n",
    "        try:\n",
    "            one = pd.read_csv(main_dir + a)\n",
    "        except pd.errors.EmptyDataError:\n",
    "            print(a + ' is Empty csv file!')\n",
    "            shutil.move(main_dir + a, main_dir + 'trash')"
   ]
  },
  {
   "cell_type": "code",
   "execution_count": 3,
   "metadata": {},
   "outputs": [],
   "source": [
    "cln_dir = '/Users/ayesh/Desktop/Gradstuff/duration_judgement/mTurk_OGdata/emoscene_data/'\n",
    "csvs = [f for f in listdir(cln_dir) if f[-3:] == 'csv']\n",
    "for a in csvs:\n",
    "    one = pd.read_csv(cln_dir + a, header = 0)\n",
    "    one.columns = one.columns.str.replace(\".\", \"_\")\n",
    "    if 'key_resp_11_keys' not in one.columns:\n",
    "        shutil.move(cln_dir + a, main_dir + 'trash')"
   ]
  },
  {
   "cell_type": "code",
   "execution_count": 4,
   "metadata": {},
   "outputs": [],
   "source": [
    "cln2_dir = '/Users/ayesh/Desktop/Gradstuff/duration_judgement/mTurk_OGdata/emoscene_data/'\n",
    "csvs2 = [f for f in listdir(cln2_dir) if f[-3:] == 'csv']\n",
    "for a in csvs2:\n",
    "    if 1 in one.key_resp_11_keys:\n",
    "        shutil.move(main_dir + a, main_dir + 'actual_raw')\n",
    "    else:\n",
    "        shutil.move(main_dir + a, main_dir + 'trash')"
   ]
  },
  {
   "cell_type": "markdown",
   "metadata": {},
   "source": [
    "## cleannout caught trash! (catch trials)"
   ]
  },
  {
   "cell_type": "code",
   "execution_count": 5,
   "metadata": {},
   "outputs": [],
   "source": [
    "act_raw = '/Users/ayesh/Desktop/Gradstuff/duration_judgement/mTurk_OGdata/emoscene_data/actual_raw/'\n",
    "pt_files = [f for f in listdir(act_raw) if f[-3:] == 'csv']\n",
    "passd = []\n",
    "for a in pt_files:\n",
    "    catch_trl = []\n",
    "    one = pd.read_csv(act_raw + a, header=0)\n",
    "    one.columns = one.columns.str.replace(\".\", \"_\")\n",
    "    for index, row in one.iterrows():\n",
    "        if one.condition[index] == \"catch\" and one.key_resp_5_keys[index] == \"space\":\n",
    "            catch_trl.append(row)\n",
    "    if len(catch_trl)>= 8:\n",
    "        passd.append(a + ' passed ' + str(len(catch_trl)))\n",
    "        shutil.move(act_raw + a, act_raw + 'worth')\n",
    "    else:\n",
    "        shutil.move(act_raw + a, act_raw + 'fails')"
   ]
  },
  {
   "cell_type": "code",
   "execution_count": 6,
   "metadata": {},
   "outputs": [
    {
     "data": {
      "text/plain": [
       "['A12HZGOZQD5YK7_emoscene_task_2023-12-19_13h47.02.178.csv passed 12',\n",
       " 'A1CFMY4CEYOM8Y_emoscene_task_2023-12-19_12h51.17.425.csv passed 11',\n",
       " 'A1IZ4NX41GKU4X_emoscene_task_2023-12-19_16h14.18.838.csv passed 11',\n",
       " 'A1YSYI926BBOHW_emoscene_task_2023-12-19_09h46.31.800.csv passed 12',\n",
       " 'A207IHY6GERCFO_emoscene_task_2023-12-19_10h49.52.736.csv passed 12',\n",
       " 'A22KRF782ELLB0_emoscene_task_2023-12-19_15h17.56.318.csv passed 12',\n",
       " 'A230VUDYOCRZ4N_emoscene_task_2023-12-19_17h58.00.788.csv passed 12',\n",
       " 'A28G4QO0DRY8OZ_emoscene_task_2023-12-19_15h09.33.513.csv passed 12',\n",
       " 'A2CNXQG6YYHTDF_emoscene_task_2023-12-19_15h16.58.245.csv passed 9',\n",
       " 'A2DFNNDO9YE0NL_emoscene_task_2023-12-19_16h10.10.745.csv passed 12',\n",
       " 'A2EDER9628S0A_emoscene_task_2023-12-19_14h31.50.295.csv passed 12',\n",
       " 'A2HGAQ9WOEU9PN_emoscene_task_2023-12-19_16h10.18.866.csv passed 10',\n",
       " 'A2IQ0QCTQ3KWLT_emoscene_task_2023-12-19_12h48.00.688.csv passed 12',\n",
       " 'A2MCG5W6LHSRG9_emoscene_task_2023-12-19_12h20.47.396.csv passed 12',\n",
       " 'A2MUCL20GTQJA0_emoscene_task_2023-12-19_10h09.48.379.csv passed 12',\n",
       " 'A2VC1UC5Q0E9PO_emoscene_task_2023-12-19_10h21.45.056.csv passed 12',\n",
       " 'A30RAYNDOWQ61S_emoscene_task_2023-12-19_11h55.07.173.csv passed 11',\n",
       " 'A3169N2SCN3ENK_emoscene_task_2023-12-19_15h26.11.153.csv passed 12',\n",
       " 'A37WXDYYT7RCZ0_emoscene_task_2023-12-19_17h02.47.689.csv passed 10',\n",
       " 'A3EG4C9T4F5DUR_emoscene_task_2023-12-20_24h37.11.990.csv passed 12',\n",
       " 'A3G55RJTW3BSGM_emoscene_task_2023-12-20_14h40.01.126.csv passed 12',\n",
       " 'A3N0QZ9ZKUCTCQ_emoscene_task_2023-12-19_12h20.08.468.csv passed 8',\n",
       " 'A3N7R7P9HP2YB6_emoscene_task_2023-12-19_13h44.13.143.csv passed 9',\n",
       " 'A3OLRWACCCCUTU_emoscene_task_2023-12-19_16h15.51.612.csv passed 12',\n",
       " 'A3OZ8KF0HWSVWK_emoscene_task_2023-12-19_16h08.16.296.csv passed 12',\n",
       " 'A3RLCGRXA34GC0_emoscene_task_2023-12-19_12h48.44.656.csv passed 11',\n",
       " 'A3RQN5RZD1N2KP_emoscene_task_2023-12-19_13h15.35.183.csv passed 12',\n",
       " 'A3UV55HC87DO9C_emoscene_task_2023-12-19_13h00.00.205.csv passed 12',\n",
       " 'A49HPQ9P5AHU4_emoscene_task_2023-12-19_16h12.37.187.csv passed 12',\n",
       " 'A6JKKANO7F4KD_emoscene_task_2023-12-19_10h56.51.428.csv passed 11',\n",
       " 'A7204W9E8IR1R_emoscene_task_2023-12-19_16h08.11.474.csv passed 12',\n",
       " 'A8028AFBBS29G_emoscene_task_2023-12-19_09h59.02.770.csv passed 12',\n",
       " 'A87D3K9YVKTQ7_emoscene_task_2023-12-19_16h12.38.345.csv passed 12',\n",
       " 'AA9V4NE8SOA4I_emoscene_task_2023-12-19_13h12.33.120.csv passed 12',\n",
       " 'ACSS93E03ZUGX_emoscene_task_2023-12-19_15h10.33.196.csv passed 12',\n",
       " 'AETIZKQNUSBLB_emoscene_task_2023-12-19_10h54.43.419.csv passed 8',\n",
       " 'AHV4U78TUUDKI_emoscene_task_2023-12-19_13h09.57.430.csv passed 12',\n",
       " 'AJDXSXAWDDAEO_emoscene_task_2023-12-19_16h11.22.525.csv passed 12',\n",
       " 'AOAZMLP27GD81_emoscene_task_2023-12-19_14h28.37.529.csv passed 12',\n",
       " 'AR1IWBDA7MC86_emoscene_task_2023-12-19_11h49.17.406.csv passed 12',\n",
       " 'AV22FQTJNBUZT_emoscene_task_2023-12-19_07h50.04.944.csv passed 11',\n",
       " 'AW0K78T4I2T72_emoscene_task_2023-12-19_11h58.59.271.csv passed 12',\n",
       " 'emoscene_task_2023-12-19_12h55.36.821.csv passed 8',\n",
       " 'emoscene_task_2023-12-19_14h17.38.069.csv passed 10']"
      ]
     },
     "execution_count": 6,
     "metadata": {},
     "output_type": "execute_result"
    }
   ],
   "source": [
    "passd"
   ]
  },
  {
   "cell_type": "code",
   "execution_count": null,
   "metadata": {},
   "outputs": [],
   "source": []
  }
 ],
 "metadata": {
  "kernelspec": {
   "display_name": "Python 3",
   "language": "python",
   "name": "python3"
  },
  "language_info": {
   "codemirror_mode": {
    "name": "ipython",
    "version": 3
   },
   "file_extension": ".py",
   "mimetype": "text/x-python",
   "name": "python",
   "nbconvert_exporter": "python",
   "pygments_lexer": "ipython3",
   "version": "3.8.5"
  }
 },
 "nbformat": 4,
 "nbformat_minor": 4
}
