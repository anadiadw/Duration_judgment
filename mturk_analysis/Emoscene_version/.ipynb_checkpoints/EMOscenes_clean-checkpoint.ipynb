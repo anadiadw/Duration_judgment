{
 "cells": [
  {
   "cell_type": "code",
   "execution_count": 1,
   "metadata": {},
   "outputs": [],
   "source": [
    "import pandas as pd\n",
    "import numpy as np\n",
    "import os\n",
    "from os import listdir\n",
    "import glob\n",
    "from glob import glob\n",
    "from os.path import isfile, join\n",
    "import shutil\n",
    "import PIL\n",
    "from PIL import Image\n",
    "import random\n",
    "import scipy as sp\n",
    "from scipy import stats\n",
    "import seaborn as sns\n",
    "from matplotlib import pyplot as plt\n",
    "import ptitprince as pt\n",
    "import matplotlib.collections as clt"
   ]
  },
  {
   "cell_type": "code",
   "execution_count": 2,
   "metadata": {},
   "outputs": [
    {
     "name": "stdout",
     "output_type": "stream",
     "text": [
      "PARTICIPANT_scene_task_2023-12-07_14h34.09.790.csv is Empty csv file!\n",
      "PARTICIPANT_scene_task_2023-12-07_15h38.18.627.csv is Empty csv file!\n",
      "PARTICIPANT_scene_task_2023-12-07_16h06.42.048.csv is Empty csv file!\n",
      "PARTICIPANT_scene_task_2023-12-07_16h14.35.092.csv is Empty csv file!\n"
     ]
    }
   ],
   "source": [
    "# remove absolute trash and other formats from dir\n",
    "main_dir = '/Users/ayesh/Desktop/Gradstuff/duration_judgement/mTurk_OGdata/scene_data2/'\n",
    "#data_dir = main_dir + 'data/'\n",
    "dir_files = [f for f in listdir(main_dir)]\n",
    "all_good = []\n",
    "for a in dir_files:\n",
    "    if a[-3:] == '.gz' or a[-3:]=='dat' or a[-3:] == 'log':\n",
    "        shutil.move(main_dir + a, main_dir + 'other_formats')\n",
    "    if a[-3:] == 'csv':\n",
    "        try:\n",
    "            one = pd.read_csv(main_dir + a)\n",
    "        except pd.errors.EmptyDataError:\n",
    "            print(a + ' is Empty csv file!')\n",
    "            shutil.move(main_dir + a, main_dir + 'trash')"
   ]
  },
  {
   "cell_type": "code",
   "execution_count": 3,
   "metadata": {},
   "outputs": [],
   "source": [
    "cln_dir = '/Users/ayesh/Desktop/Gradstuff/duration_judgement/mTurk_OGdata/scene_data2/'\n",
    "csvs = [f for f in listdir(cln_dir) if f[-3:] == 'csv']\n",
    "for a in csvs:\n",
    "    one = pd.read_csv(cln_dir + a, header = 0)\n",
    "    one.columns = one.columns.str.replace(\".\", \"_\")\n",
    "    if 'key_resp_11_keys' not in one.columns:\n",
    "        shutil.move(cln_dir + a, main_dir + 'trash')"
   ]
  },
  {
   "cell_type": "code",
   "execution_count": 4,
   "metadata": {},
   "outputs": [],
   "source": [
    "cln2_dir = '/Users/ayesh/Desktop/Gradstuff/duration_judgement/mTurk_OGdata/scene_data2/'\n",
    "csvs2 = [f for f in listdir(cln2_dir) if f[-3:] == 'csv']\n",
    "for a in csvs2:\n",
    "    if 1 in one.key_resp_11_keys:\n",
    "        shutil.move(main_dir + a, main_dir + 'actual_raw')\n",
    "    else:\n",
    "        shutil.move(main_dir + a, main_dir + 'trash')"
   ]
  },
  {
   "cell_type": "markdown",
   "metadata": {},
   "source": [
    "## cleannout caught trash! (catch trials)"
   ]
  },
  {
   "cell_type": "code",
   "execution_count": 5,
   "metadata": {},
   "outputs": [],
   "source": [
    "act_raw = '/Users/ayesh/Desktop/Gradstuff/duration_judgement/mTurk_OGdata/scene_data2/actual_raw/'\n",
    "pt_files = [f for f in listdir(act_raw) if f[-3:] == 'csv']\n",
    "passd = []\n",
    "for a in pt_files:\n",
    "    catch_trl = []\n",
    "    one = pd.read_csv(act_raw + a, header=0)\n",
    "    one.columns = one.columns.str.replace(\".\", \"_\")\n",
    "    for index, row in one.iterrows():\n",
    "        if one.condition[index] == \"catch\" and one.key_resp_5_keys[index] == \"space\":\n",
    "            catch_trl.append(row)\n",
    "    if len(catch_trl)>= 4:\n",
    "        passd.append(a + ' passed ' + str(len(catch_trl)))\n",
    "        shutil.move(act_raw + a, act_raw + 'worth')\n",
    "    else:\n",
    "        shutil.move(act_raw + a, act_raw + 'fails')"
   ]
  },
  {
   "cell_type": "code",
   "execution_count": 6,
   "metadata": {},
   "outputs": [
    {
     "data": {
      "text/plain": [
       "['A183WYXN12P2TJ_scene_task_2023-12-07_17h19.12.554.csv passed 6',\n",
       " 'A1F1BIPJR11LSR_scene_task_2023-12-08_14h09.36.314.csv passed 6',\n",
       " 'A1IZ4NX41GKU4X_scene_task_2023-12-07_17h57.30.155.csv passed 5',\n",
       " 'A1S88VQY8G8CNC_scene_task_2023-12-08_23h38.36.335.csv passed 6',\n",
       " 'A1V1JNPU0KOA3X_scene_task_2023-12-09_24h36.43.735.csv passed 5',\n",
       " 'A1YC558J4E5KZ_scene_task_2023-12-07_18h31.30.559.csv passed 6',\n",
       " 'A22KRF782ELLB0_scene_task_2023-12-07_16h45.26.203.csv passed 6',\n",
       " 'A27HVVLSZZ13XK_scene_task_2023-12-07_16h09.46.256.csv passed 6',\n",
       " 'A27W025UEXS1G0_scene_task_2023-12-07_17h27.17.533.csv passed 6',\n",
       " 'A28G4QO0DRY8OZ_scene_task_2023-12-07_16h58.31.899.csv passed 6',\n",
       " 'A2GXS7E934VJQ1_scene_task_2023-12-07_17h40.30.083.csv passed 6',\n",
       " 'A2HOUSKURBF8UA_scene_task_2023-12-07_18h38.57.186.csv passed 6',\n",
       " 'A2LU259QPV1I4V_scene_task_2023-12-07_15h19.06.636.csv passed 6',\n",
       " 'A2MCG5W6LHSRG9_scene_task_2023-12-08_13h11.12.039.csv passed 6',\n",
       " 'A2MUCL20GTQJA0_scene_task_2023-12-07_14h28.01.556.csv passed 6',\n",
       " 'A2MWAXV1YRK5GH_scene_task_2023-12-08_13h59.50.901.csv passed 6',\n",
       " 'A2TG7EEQ2XG2IK_scene_task_2023-12-07_17h14.51.358.csv passed 6',\n",
       " 'A30RAYNDOWQ61S_scene_task_2023-12-07_16h29.17.739.csv passed 6',\n",
       " 'A320QA9HJFUOZO_scene_task_2023-12-07_14h36.17.171.csv passed 5',\n",
       " 'A33VGSEJ44ORMF_scene_task_2023-12-07_17h23.32.878.csv passed 6',\n",
       " 'A351P2O6QGTCS_scene_task_2023-12-07_16h19.27.436.csv passed 6',\n",
       " 'A38DC3BG1ZCVZ2_scene_task_2023-12-07_14h20.48.521.csv passed 6',\n",
       " 'A38DXFI1TZA295_scene_task_2023-12-08_14h30.16.191.csv passed 6',\n",
       " 'A39C1BN9ZSQ0R2_scene_task_2023-12-09_22h16.09.261.csv passed 6',\n",
       " 'A3G55RJTW3BSGM_scene_task_2023-12-07_18h11.53.841.csv passed 6',\n",
       " 'A3HW4QDJB63OQ2_scene_task_2023-12-08_14h27.39.894.csv passed 6',\n",
       " 'A3ITZNJQUTIZ4C_scene_task_2023-12-07_14h27.59.508.csv passed 6',\n",
       " 'A3N0QZ9ZKUCTCQ_scene_task_2023-12-08_13h11.23.591.csv passed 6',\n",
       " 'A3OZ8KF0HWSVWK_scene_task_2023-12-08_14h28.51.302.csv passed 5',\n",
       " 'A3RR85PK3AV9TU_scene_task_2023-12-07_16h46.41.928.csv passed 6',\n",
       " 'A87D3K9YVKTQ7_scene_task_2023-12-08_14h03.02.783.csv passed 6',\n",
       " 'AHV4U78TUUDKI_scene_task_2023-12-08_22h36.45.651.csv passed 6',\n",
       " 'AJDXSXAWDDAEO_scene_task_2023-12-10_02h09.14.841.csv passed 6',\n",
       " 'AOAZMLP27GD81_scene_task_2023-12-07_14h26.00.104.csv passed 6',\n",
       " 'AOIR8V07FYMH5_scene_task_2023-12-07_16h25.07.896.csv passed 5',\n",
       " 'APJJ1HHD2GGFS_scene_task_2023-12-07_16h05.44.029.csv passed 4',\n",
       " 'AR1IWBDA7MC86_scene_task_2023-12-08_13h03.09.501.csv passed 6',\n",
       " 'AVPKE76DJLWK6_scene_task_2023-12-07_14h24.44.693.csv passed 6',\n",
       " 'AZNIEFUIVB2H0_scene_task_2023-12-09_08h36.29.838.csv passed 6',\n",
       " 'scene_task_2023-12-07_14h22.25.036.csv passed 5',\n",
       " 'scene_task_2023-12-07_17h20.03.972.csv passed 6',\n",
       " 'scene_task_2023-12-07_17h20.08.761.csv passed 6',\n",
       " 'scene_task_2023-12-08_23h26.02.992.csv passed 5',\n",
       " 'scene_task_2023-12-08_23h42.08.821.csv passed 4']"
      ]
     },
     "execution_count": 6,
     "metadata": {},
     "output_type": "execute_result"
    }
   ],
   "source": [
    "passd"
   ]
  },
  {
   "cell_type": "code",
   "execution_count": null,
   "metadata": {},
   "outputs": [],
   "source": []
  }
 ],
 "metadata": {
  "kernelspec": {
   "display_name": "Python 3",
   "language": "python",
   "name": "python3"
  },
  "language_info": {
   "codemirror_mode": {
    "name": "ipython",
    "version": 3
   },
   "file_extension": ".py",
   "mimetype": "text/x-python",
   "name": "python",
   "nbconvert_exporter": "python",
   "pygments_lexer": "ipython3",
   "version": "3.8.5"
  }
 },
 "nbformat": 4,
 "nbformat_minor": 4
}
