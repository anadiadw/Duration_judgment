{
 "cells": [
  {
   "cell_type": "code",
   "execution_count": 6,
   "metadata": {},
   "outputs": [],
   "source": [
    "import pandas as pd\n",
    "import numpy as np\n",
    "import os\n",
    "from os import listdir\n",
    "import glob\n",
    "from glob import glob\n",
    "from os.path import isfile, join\n",
    "import shutil\n",
    "import PIL\n",
    "from PIL import Image\n",
    "import random\n",
    "import scipy as sp\n",
    "from scipy import stats\n",
    "import seaborn as sns\n",
    "from matplotlib import pyplot as plt\n",
    "import ptitprince as pt\n",
    "import matplotlib.collections as clt"
   ]
  },
  {
   "cell_type": "code",
   "execution_count": 7,
   "metadata": {},
   "outputs": [
    {
     "name": "stdout",
     "output_type": "stream",
     "text": [
      "PARTICIPANT_bdr_emoscene_task_2024-02-14_13h38.24.533.csv is Empty csv file!\n",
      "PARTICIPANT_bdr_emoscene_task_2024-02-15_11h02.52.335.csv is Empty csv file!\n",
      "PARTICIPANT_bdr_emoscene_task_2024-02-15_24h32.28.660.csv is Empty csv file!\n",
      "PARTICIPANT_bdr_emoscene_task_2024-02-16_12h44.39.212.csv is Empty csv file!\n",
      "PARTICIPANT_bdr_emoscene_task_2024-02-16_24h38.08.799.csv is Empty csv file!\n",
      "PARTICIPANT_bdr_emoscene_task_2024-02-20_06h25.35.690.csv is Empty csv file!\n",
      "PARTICIPANT_bdr_emoscene_task_2024-02-20_12h34.56.766.csv is Empty csv file!\n",
      "PARTICIPANT_bdr_emoscene_task_2024-02-20_19h30.58.406.csv is Empty csv file!\n"
     ]
    }
   ],
   "source": [
    "# remove absolute trash and other formats from dir\n",
    "main_dir = '/Users/ayesh/Desktop/Gradstuff/duration_judgement/mTurk_OGdata/emobdr_data/'\n",
    "#data_dir = main_dir + 'data/'\n",
    "dir_files = [f for f in listdir(main_dir)]\n",
    "all_good = []\n",
    "for a in dir_files:\n",
    "    if a[-3:] == '.gz' or a[-3:]=='dat' or a[-3:] == 'log':\n",
    "        shutil.move(main_dir + a, main_dir + 'other_formats')\n",
    "    if a[-3:] == 'csv':\n",
    "        try:\n",
    "            one = pd.read_csv(main_dir + a)\n",
    "        except pd.errors.EmptyDataError:\n",
    "            print(a + ' is Empty csv file!')\n",
    "            shutil.move(main_dir + a, main_dir + 'trash')"
   ]
  },
  {
   "cell_type": "code",
   "execution_count": 8,
   "metadata": {},
   "outputs": [],
   "source": [
    "cln_dir = '/Users/ayesh/Desktop/Gradstuff/duration_judgement/mTurk_OGdata/emobdr_data/'\n",
    "csvs = [f for f in listdir(cln_dir) if f[-3:] == 'csv']\n",
    "for a in csvs:\n",
    "    one = pd.read_csv(cln_dir + a, header = 0)\n",
    "    one.columns = one.columns.str.replace(\".\", \"_\")\n",
    "    if 'key_resp_11_keys' not in one.columns:\n",
    "        shutil.move(cln_dir + a, main_dir + 'trash')"
   ]
  },
  {
   "cell_type": "code",
   "execution_count": 9,
   "metadata": {},
   "outputs": [],
   "source": [
    "cln2_dir = '/Users/ayesh/Desktop/Gradstuff/duration_judgement/mTurk_OGdata/emobdr_data/'\n",
    "csvs2 = [f for f in listdir(cln2_dir) if f[-3:] == 'csv']\n",
    "for a in csvs2:\n",
    "    if 1 in one.key_resp_11_keys:\n",
    "        shutil.move(main_dir + a, main_dir + 'actual_raw')\n",
    "    else:\n",
    "        shutil.move(main_dir + a, main_dir + 'trash')"
   ]
  },
  {
   "cell_type": "markdown",
   "metadata": {},
   "source": [
    "## cleannout caught trash! (catch trials)"
   ]
  },
  {
   "cell_type": "code",
   "execution_count": 10,
   "metadata": {},
   "outputs": [],
   "source": [
    "act_raw = '/Users/ayesh/Desktop/Gradstuff/duration_judgement/mTurk_OGdata/emobdr_data/actual_raw/'\n",
    "pt_files = [f for f in listdir(act_raw) if f[-3:] == 'csv']\n",
    "passd = []\n",
    "for a in pt_files:\n",
    "    catch_trl = []\n",
    "    one = pd.read_csv(act_raw + a, header=0)\n",
    "    one.columns = one.columns.str.replace(\".\", \"_\")\n",
    "    for index, row in one.iterrows():\n",
    "        if one.condition[index] == \"catch\" and one.key_resp_5_keys[index] == \"space\":\n",
    "            catch_trl.append(row)\n",
    "    if len(catch_trl)>= 8:\n",
    "        passd.append(a + ' passed ' + str(len(catch_trl)))\n",
    "        shutil.move(act_raw + a, act_raw + 'worth')\n",
    "    else:\n",
    "        shutil.move(act_raw + a, act_raw + 'fails')"
   ]
  },
  {
   "cell_type": "code",
   "execution_count": 11,
   "metadata": {},
   "outputs": [
    {
     "data": {
      "text/plain": [
       "['A100VV1V2XDQI7_bdr_emoscene_task_2024-02-14_16h02.37.739.csv passed 12',\n",
       " 'A10TYO0H3GLCH6_bdr_emoscene_task_2024-02-15_18h42.20.473.csv passed 12',\n",
       " 'A14PFRHG0A2YY9_bdr_emoscene_task_2024-02-15_12h09.51.435.csv passed 12',\n",
       " 'A19CB2C4GY4C60_bdr_emoscene_task_2024-02-14_19h00.09.733.csv passed 12',\n",
       " 'A1A1A9UHNQCI9Y_bdr_emoscene_task_2024-02-20_08h59.32.778.csv passed 12',\n",
       " 'A1BHINLXH3E2GJ_bdr_emoscene_task_2024-02-15_09h02.06.128.csv passed 12',\n",
       " 'A1BHINLXH3E2GJ_bdr_emoscene_task_2024-02-15_09h23.32.899.csv passed 12',\n",
       " 'A1BHINLXH3E2GJ_bdr_emoscene_task_2024-02-17_13h35.34.626.csv passed 12',\n",
       " 'A1C57DJF1HCR3Q_bdr_emoscene_task_2024-02-14_22h09.01.487.csv passed 12',\n",
       " 'A1C59M3HPCO503_bdr_emoscene_task_2024-02-14_13h15.02.519.csv passed 12',\n",
       " 'A1D4I1QYL9713I_bdr_emoscene_task_2024-02-16_13h08.09.910.csv passed 12',\n",
       " 'A1DZLZE63NE1ZI_bdr_emoscene_task_2024-02-15_14h19.35.405.csv passed 9',\n",
       " 'A1FGKIKJYSL1MI_bdr_emoscene_task_2024-02-15_20h01.12.442.csv passed 12',\n",
       " 'A1GKEEI844CEKI_bdr_emoscene_task_2024-02-14_13h24.48.925.csv passed 12',\n",
       " 'A1H5BQHY7VOY3I_bdr_emoscene_task_2024-02-15_16h45.42.115.csv passed 12',\n",
       " 'A1HWI4N1RJGKYY_bdr_emoscene_task_2024-02-14_17h57.23.925.csv passed 11',\n",
       " 'A1IIUECI2HNG55_bdr_emoscene_task_2024-02-19_17h15.25.849.csv passed 12',\n",
       " 'A1M1TSMJB12177_bdr_emoscene_task_2024-02-14_13h21.28.520.csv passed 12',\n",
       " 'A1MTRZDRKNB9GV_bdr_emoscene_task_2024-02-16_06h18.02.937.csv passed 12',\n",
       " 'A1NHTBY5YB9JH7_bdr_emoscene_task_2024-02-15_13h50.36.513.csv passed 11',\n",
       " 'A1NHTBY5YB9JH7_bdr_emoscene_task_2024-02-20_12h22.46.976.csv passed 12',\n",
       " 'A1NIO3JNX5QTN8_bdr_emoscene_task_2024-02-14_10h22.37.182.csv passed 12',\n",
       " 'A1PJLZSOUQ4MIL_bdr_emoscene_task_2024-02-14_11h25.38.217.csv passed 12',\n",
       " 'A1SWRO4LMKPCOQ_bdr_emoscene_task_2024-02-15_05h36.07.678.csv passed 9',\n",
       " 'A1UKZZL7ANOZRZ_bdr_emoscene_task_2024-02-14_23h09.51.274.csv passed 12',\n",
       " 'A1WGSW0SLN4Y91_bdr_emoscene_task_2024-02-14_15h12.21.015.csv passed 12',\n",
       " 'A1WGSW0SLN4Y91_bdr_emoscene_task_2024-02-19_15h09.14.071.csv passed 12',\n",
       " 'A1XAOEDK0Y2KBT_bdr_emoscene_task_2024-02-14_13h17.51.148.csv passed 12',\n",
       " 'A1Y25W1Y7KDE5_bdr_emoscene_task_2024-02-19_14h57.43.249.csv passed 12',\n",
       " 'A20HZD952T4B2O_bdr_emoscene_task_2024-02-14_17h29.28.090.csv passed 11',\n",
       " 'A20HZD952T4B2O_bdr_emoscene_task_2024-02-19_18h06.46.528.csv passed 12',\n",
       " 'A26L91YL0GDGD8_bdr_emoscene_task_2024-02-14_17h22.27.421.csv passed 12',\n",
       " 'A26ZENZ5G8AEGM_bdr_emoscene_task_2024-02-19_15h52.18.564.csv passed 12',\n",
       " 'A27PVIL93ZMY46_bdr_emoscene_task_2024-02-15_20h29.16.254.csv passed 12',\n",
       " 'A28Q19NTTP0UIQ_bdr_emoscene_task_2024-02-14_14h19.18.845.csv passed 12',\n",
       " 'A2AAY4VT9L71SY_bdr_emoscene_task_2024-02-16_08h08.14.198.csv passed 12',\n",
       " 'A2AVFNOKFHQ2ME_bdr_emoscene_task_2024-02-16_16h03.16.590.csv passed 12',\n",
       " 'A2B338ZP97RA5W_bdr_emoscene_task_2024-02-16_17h08.06.755.csv passed 12',\n",
       " 'A2F0X4LN9N4O4C_bdr_emoscene_task_2024-02-14_22h19.26.529.csv passed 12',\n",
       " 'A2FCGEU5RTEWG8_bdr_emoscene_task_2024-02-16_24h10.06.069.csv passed 12',\n",
       " 'A2GM5BW75YCKKW_bdr_emoscene_task_2024-02-15_14h25.50.735.csv passed 12',\n",
       " 'A2HM35CWB7IIFM_bdr_emoscene_task_2024-02-15_04h01.18.809.csv passed 12',\n",
       " 'A2IOT3PCS9G5RK_bdr_emoscene_task_2024-02-14_13h21.31.041.csv passed 12',\n",
       " 'A2OJ5XOEKTKRR9_bdr_emoscene_task_2024-02-20_15h13.09.266.csv passed 12',\n",
       " 'A2PEXE95UD6Y5S_bdr_emoscene_task_2024-02-19_15h30.39.484.csv passed 12',\n",
       " 'A2R2YZTSME1K3F_bdr_emoscene_task_2024-02-14_17h19.20.649.csv passed 10',\n",
       " 'A2SBN9B6Q3DN2X_bdr_emoscene_task_2024-02-16_12h28.24.939.csv passed 12',\n",
       " 'A2U31V169A20GY_bdr_emoscene_task_2024-02-15_03h34.08.320.csv passed 12',\n",
       " 'A2VE5IV9OD2SK1_bdr_emoscene_task_2024-02-14_13h23.07.750.csv passed 12',\n",
       " 'A2W547SNOCMC25_bdr_emoscene_task_2024-02-15_17h48.59.497.csv passed 12',\n",
       " 'A2WCCV1W8UE8ED_bdr_emoscene_task_2024-02-20_09h10.01.331.csv passed 11',\n",
       " 'A2WMSIPUKEIBNS_bdr_emoscene_task_2024-02-16_12h12.42.630.csv passed 12',\n",
       " 'A2WNW8A4MOR7T7_bdr_emoscene_task_2024-02-19_20h53.42.837.csv passed 10',\n",
       " 'A2YLF04UAKYVF1_bdr_emoscene_task_2024-02-15_13h23.43.587.csv passed 12',\n",
       " 'A314XJY8V1YL12_bdr_emoscene_task_2024-02-14_22h42.28.007.csv passed 12',\n",
       " 'A31Z5TPD8QKE26_bdr_emoscene_task_2024-02-14_13h43.52.993.csv passed 12',\n",
       " 'A32UE0WDFAUWBE_bdr_emoscene_task_2024-02-19_14h40.48.318.csv passed 12',\n",
       " 'A35BY30TC8WCL4_bdr_emoscene_task_2024-02-15_24h10.56.364.csv passed 12',\n",
       " 'A35BY30TC8WCL4_bdr_emoscene_task_2024-02-20_04h58.06.919.csv passed 12',\n",
       " 'A36SM7QM8OK3H6_bdr_emoscene_task_2024-02-14_13h20.56.906.csv passed 12',\n",
       " 'A37QFZ8I1TGH2C_bdr_emoscene_task_2024-02-15_08h05.58.689.csv passed 12',\n",
       " 'A3BVPQFBYGWJWX_bdr_emoscene_task_2024-02-16_15h24.28.771.csv passed 12',\n",
       " 'A3CFNUD7VR2E1E_bdr_emoscene_task_2024-02-14_13h07.48.611.csv passed 12',\n",
       " 'A3CVY8G619MGTI_bdr_emoscene_task_2024-02-22_24h21.41.780.csv passed 12',\n",
       " 'A3DZ46U9XRLVBI_bdr_emoscene_task_2024-02-14_15h56.31.895.csv passed 12',\n",
       " 'A3EVR7FOPM6EA0_bdr_emoscene_task_2024-02-19_14h36.31.707.csv passed 12',\n",
       " 'A3FOKP72T5I4FR_bdr_emoscene_task_2024-02-16_07h39.17.886.csv passed 11',\n",
       " 'A3GCA0EZKHTJME_bdr_emoscene_task_2024-02-19_19h12.21.579.csv passed 12',\n",
       " 'A3GNQDFPZALU92_bdr_emoscene_task_2024-02-14_14h30.58.280.csv passed 12',\n",
       " 'A3JZS32RQUWGJM_bdr_emoscene_task_2024-02-15_15h09.53.361.csv passed 12',\n",
       " 'A3L60SOWLYEDN2_bdr_emoscene_task_2024-02-15_15h03.20.967.csv passed 12',\n",
       " 'A3MS21UJPMHLK0_bdr_emoscene_task_2024-02-15_10h24.14.325.csv passed 12',\n",
       " 'A3NH3BCC6GHEWR_bdr_emoscene_task_2024-02-16_11h03.33.113.csv passed 11',\n",
       " 'A3NH3BCC6GHEWR_bdr_emoscene_task_2024-02-20_11h57.51.673.csv passed 9',\n",
       " 'A3O2JUIF4DZQJU_bdr_emoscene_task_2024-02-19_15h10.11.777.csv passed 12',\n",
       " 'A3QC57KUVJP5EW_bdr_emoscene_task_2024-02-16_04h19.42.726.csv passed 12',\n",
       " 'A3UJO2A7THUZTV_bdr_emoscene_task_2024-02-20_12h35.17.292.csv passed 12',\n",
       " 'A3V9JFVZQ2XF4Y_bdr_emoscene_task_2024-02-15_10h31.37.672.csv passed 12',\n",
       " 'A4W9APAHFWVLO_bdr_emoscene_task_2024-02-16_06h36.51.040.csv passed 12',\n",
       " 'A5TI9UQEPLNWI_bdr_emoscene_task_2024-02-17_08h48.50.581.csv passed 12',\n",
       " 'A5V3ZMQI0PU3F_bdr_emoscene_task_2024-02-14_17h16.34.796.csv passed 12',\n",
       " 'A6PPB69C6ZJHN_bdr_emoscene_task_2024-02-21_22h18.33.512.csv passed 12',\n",
       " 'A8FUMDQFBKMXR_bdr_emoscene_task_2024-02-15_10h58.58.714.csv passed 12',\n",
       " 'A8FUMDQFBKMXR_bdr_emoscene_task_2024-02-19_14h46.16.476.csv passed 11',\n",
       " 'A8KHWKKGAGOH0_bdr_emoscene_task_2024-02-15_19h05.07.882.csv passed 12',\n",
       " 'A9WIOFVRSYW3L_bdr_emoscene_task_2024-02-19_17h57.44.010.csv passed 12',\n",
       " 'ABOEYY9Y0PFRI_bdr_emoscene_task_2024-02-20_20h24.02.352.csv passed 12',\n",
       " 'ACCXC5V05C9R9_bdr_emoscene_task_2024-02-15_07h42.34.245.csv passed 12',\n",
       " 'ACVEFRSUAPSEQ_bdr_emoscene_task_2024-02-15_10h46.53.094.csv passed 12',\n",
       " 'AELOYBHVZFDW9_bdr_emoscene_task_2024-02-15_08h21.36.237.csv passed 12',\n",
       " 'AIPHJXQEDNW9L_bdr_emoscene_task_2024-02-19_13h53.41.653.csv passed 12',\n",
       " 'AJY6J33X1KJNP_bdr_emoscene_task_2024-02-20_20h43.56.927.csv passed 12',\n",
       " 'AKX5RHHO8BIUX_bdr_emoscene_task_2024-02-16_13h29.37.878.csv passed 12',\n",
       " 'ALVNMQMD3Q3ZE_bdr_emoscene_task_2024-02-14_13h21.17.920.csv passed 10',\n",
       " 'AMG9Y1YLBTKIV_bdr_emoscene_task_2024-02-16_10h54.02.724.csv passed 11',\n",
       " 'AML72HK5V5OP0_bdr_emoscene_task_2024-02-19_17h47.24.989.csv passed 12',\n",
       " 'AQAXDL1INQC9Q_bdr_emoscene_task_2024-02-20_13h51.08.763.csv passed 12',\n",
       " 'ATHS9GUME1XCA_bdr_emoscene_task_2024-02-14_14h24.14.263.csv passed 12',\n",
       " 'ATHS9GUME1XCA_bdr_emoscene_task_2024-02-15_14h18.41.818.csv passed 11',\n",
       " 'ATHS9GUME1XCA_bdr_emoscene_task_2024-02-19_15h42.21.287.csv passed 12',\n",
       " 'AU2NVT51E749C_bdr_emoscene_task_2024-02-14_16h58.25.488.csv passed 12',\n",
       " 'AVOF14300525D_bdr_emoscene_task_2024-02-14_17h04.03.761.csv passed 12',\n",
       " 'AVQGY7FCU80XP_bdr_emoscene_task_2024-02-14_14h20.10.778.csv passed 12',\n",
       " 'AVQGY7FCU80XP_bdr_emoscene_task_2024-02-14_17h21.29.109.csv passed 12',\n",
       " 'AVQGY7FCU80XP_bdr_emoscene_task_2024-02-19_23h30.28.349.csv passed 12',\n",
       " 'AXOR2N1EAFVYF_bdr_emoscene_task_2024-02-14_14h10.33.485.csv passed 12',\n",
       " 'AYJGQBBK6KXZ7_bdr_emoscene_task_2024-02-14_13h21.21.231.csv passed 12',\n",
       " 'bdr_emoscene_task_2024-02-14_11h25.49.583.csv passed 12',\n",
       " 'bdr_emoscene_task_2024-02-14_14h13.16.317.csv passed 12',\n",
       " 'bdr_emoscene_task_2024-02-14_14h39.32.298.csv passed 12',\n",
       " 'bdr_emoscene_task_2024-02-15_19h07.32.664.csv passed 12',\n",
       " 'bdr_emoscene_task_2024-02-16_13h27.16.097.csv passed 12',\n",
       " 'bdr_emoscene_task_2024-02-16_19h16.25.688.csv passed 12',\n",
       " 'bdr_emoscene_task_2024-02-19_14h22.56.537.csv passed 12',\n",
       " 'bdr_emoscene_task_2024-02-21_07h00.20.674.csv passed 12']"
      ]
     },
     "execution_count": 11,
     "metadata": {},
     "output_type": "execute_result"
    }
   ],
   "source": [
    "passd"
   ]
  },
  {
   "cell_type": "code",
   "execution_count": 12,
   "metadata": {},
   "outputs": [
    {
     "data": {
      "text/plain": [
       "115"
      ]
     },
     "execution_count": 12,
     "metadata": {},
     "output_type": "execute_result"
    }
   ],
   "source": [
    "len(passd)"
   ]
  },
  {
   "cell_type": "code",
   "execution_count": null,
   "metadata": {},
   "outputs": [],
   "source": []
  }
 ],
 "metadata": {
  "kernelspec": {
   "display_name": "Python 3",
   "language": "python",
   "name": "python3"
  },
  "language_info": {
   "codemirror_mode": {
    "name": "ipython",
    "version": 3
   },
   "file_extension": ".py",
   "mimetype": "text/x-python",
   "name": "python",
   "nbconvert_exporter": "python",
   "pygments_lexer": "ipython3",
   "version": "3.8.5"
  }
 },
 "nbformat": 4,
 "nbformat_minor": 4
}
