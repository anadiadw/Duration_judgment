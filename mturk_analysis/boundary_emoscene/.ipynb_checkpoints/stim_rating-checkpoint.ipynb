{
 "cells": [
  {
   "cell_type": "code",
   "execution_count": 1,
   "metadata": {},
   "outputs": [],
   "source": [
    "## importing all libraries and dependencies\n",
    "import pandas as pd\n",
    "import numpy as np\n",
    "import os\n",
    "from os import listdir\n",
    "import glob\n",
    "from os.path import isfile, join\n",
    "import shutil\n",
    "import PIL\n",
    "from PIL import Image\n",
    "import random\n",
    "from random import sample\n",
    "import math\n",
    "from heapq import merge\n",
    "from random import *\n",
    "import secrets\n",
    "from scipy.stats import spearmanr\n",
    "from scipy import stats\n",
    "import matplotlib.pyplot as plt"
   ]
  },
  {
   "cell_type": "code",
   "execution_count": 10,
   "metadata": {},
   "outputs": [
    {
     "data": {
      "text/html": [
       "<div>\n",
       "<style scoped>\n",
       "    .dataframe tbody tr th:only-of-type {\n",
       "        vertical-align: middle;\n",
       "    }\n",
       "\n",
       "    .dataframe tbody tr th {\n",
       "        vertical-align: top;\n",
       "    }\n",
       "\n",
       "    .dataframe thead th {\n",
       "        text-align: right;\n",
       "    }\n",
       "</style>\n",
       "<table border=\"1\" class=\"dataframe\">\n",
       "  <thead>\n",
       "    <tr style=\"text-align: right;\">\n",
       "      <th></th>\n",
       "      <th>image_title</th>\n",
       "      <th>Valence</th>\n",
       "      <th>Arousal</th>\n",
       "    </tr>\n",
       "  </thead>\n",
       "  <tbody>\n",
       "    <tr>\n",
       "      <th>0</th>\n",
       "      <td>Sp001.jpg</td>\n",
       "      <td>31.857</td>\n",
       "      <td>56.361</td>\n",
       "    </tr>\n",
       "    <tr>\n",
       "      <th>1</th>\n",
       "      <td>Sp002.jpg</td>\n",
       "      <td>23.374</td>\n",
       "      <td>66.869</td>\n",
       "    </tr>\n",
       "    <tr>\n",
       "      <th>2</th>\n",
       "      <td>Sp003.jpg</td>\n",
       "      <td>32.136</td>\n",
       "      <td>64.065</td>\n",
       "    </tr>\n",
       "    <tr>\n",
       "      <th>3</th>\n",
       "      <td>Sp004.jpg</td>\n",
       "      <td>37.378</td>\n",
       "      <td>67.745</td>\n",
       "    </tr>\n",
       "    <tr>\n",
       "      <th>4</th>\n",
       "      <td>Sp005.jpg</td>\n",
       "      <td>40.764</td>\n",
       "      <td>42.382</td>\n",
       "    </tr>\n",
       "    <tr>\n",
       "      <th>...</th>\n",
       "      <td>...</td>\n",
       "      <td>...</td>\n",
       "      <td>...</td>\n",
       "    </tr>\n",
       "    <tr>\n",
       "      <th>153</th>\n",
       "      <td>Sp156.jpg</td>\n",
       "      <td>39.626</td>\n",
       "      <td>54.421</td>\n",
       "    </tr>\n",
       "    <tr>\n",
       "      <th>154</th>\n",
       "      <td>Sp157.jpg</td>\n",
       "      <td>32.313</td>\n",
       "      <td>64.810</td>\n",
       "    </tr>\n",
       "    <tr>\n",
       "      <th>155</th>\n",
       "      <td>Sp158.jpg</td>\n",
       "      <td>40.406</td>\n",
       "      <td>44.130</td>\n",
       "    </tr>\n",
       "    <tr>\n",
       "      <th>156</th>\n",
       "      <td>Sp159.jpg</td>\n",
       "      <td>55.637</td>\n",
       "      <td>44.821</td>\n",
       "    </tr>\n",
       "    <tr>\n",
       "      <th>157</th>\n",
       "      <td>Sp160.jpg</td>\n",
       "      <td>35.905</td>\n",
       "      <td>68.265</td>\n",
       "    </tr>\n",
       "  </tbody>\n",
       "</table>\n",
       "<p>158 rows × 3 columns</p>\n",
       "</div>"
      ],
      "text/plain": [
       "    image_title  Valence  Arousal\n",
       "0     Sp001.jpg   31.857   56.361\n",
       "1     Sp002.jpg   23.374   66.869\n",
       "2     Sp003.jpg   32.136   64.065\n",
       "3     Sp004.jpg   37.378   67.745\n",
       "4     Sp005.jpg   40.764   42.382\n",
       "..          ...      ...      ...\n",
       "153   Sp156.jpg   39.626   54.421\n",
       "154   Sp157.jpg   32.313   64.810\n",
       "155   Sp158.jpg   40.406   44.130\n",
       "156   Sp159.jpg   55.637   44.821\n",
       "157   Sp160.jpg   35.905   68.265\n",
       "\n",
       "[158 rows x 3 columns]"
      ]
     },
     "execution_count": 10,
     "metadata": {},
     "output_type": "execute_result"
    }
   ],
   "source": [
    "gaped_txtA = '/Users/ayesh/Downloads/GAPED_2/GAPED/GAPED/Sp.txt'\n",
    "## threashold- Negative (valence: 45; arousal: 60+), and Neutral (valence: 45–55; arousal: 40-60)\n",
    "tst = pd.read_csv(gaped_txtA, sep = '\\t')\n",
    "rating_list = pd.DataFrame(tst)\n",
    "rating_list.rename(columns={rating_list.columns[0]: \"image_title\" }, inplace = True)\n",
    "rating_list"
   ]
  },
  {
   "cell_type": "code",
   "execution_count": 12,
   "metadata": {},
   "outputs": [],
   "source": [
    "selc = []\n",
    "val = rating_list.Valence\n",
    "ar = rating_list.Arousal\n",
    "neut = []\n",
    "neg = []\n",
    "for index, row in rating_list.iterrows():\n",
    "    if  ((40 <= val[index] <= 60) and (ar[index] <= 27)):\n",
    "        neut.append(rating_list.image_title[index])\n",
    "    if  ((val[index] < 40) and (ar[index] >= 60)):\n",
    "        neg.append(rating_list.image_title[index])"
   ]
  },
  {
   "cell_type": "code",
   "execution_count": 13,
   "metadata": {},
   "outputs": [
    {
     "data": {
      "text/plain": [
       "['Sp002.jpg',\n",
       " 'Sp003.jpg',\n",
       " 'Sp004.jpg',\n",
       " 'Sp009.jpg',\n",
       " 'Sp011.jpg',\n",
       " 'Sp012.jpg',\n",
       " 'Sp015.jpg',\n",
       " 'Sp019.jpg',\n",
       " 'Sp020.jpg',\n",
       " 'Sp021.jpg',\n",
       " 'Sp022.jpg',\n",
       " 'Sp025.jpg',\n",
       " 'Sp026.jpg',\n",
       " 'Sp030.jpg',\n",
       " 'Sp037.jpg',\n",
       " 'Sp041.jpg',\n",
       " 'Sp048.jpg',\n",
       " 'Sp051.jpg',\n",
       " 'Sp052.jpg',\n",
       " 'Sp053.jpg',\n",
       " 'Sp054.jpg',\n",
       " 'Sp057.jpg',\n",
       " 'Sp062.jpg',\n",
       " 'Sp063.jpg',\n",
       " 'Sp069.jpg',\n",
       " 'Sp071.jpg',\n",
       " 'Sp072.jpg',\n",
       " 'Sp073.jpg',\n",
       " 'Sp075.jpg',\n",
       " 'Sp077.jpg',\n",
       " 'Sp080.jpg',\n",
       " 'Sp081.jpg',\n",
       " 'Sp084.jpg',\n",
       " 'Sp086.jpg',\n",
       " 'Sp087.jpg',\n",
       " 'Sp096.jpg',\n",
       " 'Sp097.jpg',\n",
       " 'Sp099.jpg',\n",
       " 'Sp101.jpg',\n",
       " 'Sp106.jpg',\n",
       " 'Sp113.jpg',\n",
       " 'Sp115.jpg',\n",
       " 'Sp119.jpg',\n",
       " 'Sp122.jpg',\n",
       " 'Sp124.jpg',\n",
       " 'Sp125.jpg',\n",
       " 'Sp126.jpg',\n",
       " 'Sp127.jpg',\n",
       " 'Sp128.jpg',\n",
       " 'Sp131.jpg',\n",
       " 'Sp132.jpg',\n",
       " 'Sp133.jpg',\n",
       " 'Sp135.jpg',\n",
       " 'Sp136.jpg',\n",
       " 'Sp138.jpg',\n",
       " 'Sp139.jpg',\n",
       " 'Sp141.jpg',\n",
       " 'Sp144.jpg',\n",
       " 'Sp145.jpg',\n",
       " 'Sp146.jpg',\n",
       " 'Sp147.jpg',\n",
       " 'Sp151.jpg',\n",
       " 'Sp152.jpg',\n",
       " 'Sp153.jpg',\n",
       " 'Sp154.jpg',\n",
       " 'Sp157.jpg',\n",
       " 'Sp160.jpg']"
      ]
     },
     "execution_count": 13,
     "metadata": {},
     "output_type": "execute_result"
    }
   ],
   "source": [
    "neg"
   ]
  },
  {
   "cell_type": "markdown",
   "metadata": {},
   "source": [
    "## resize"
   ]
  },
  {
   "cell_type": "code",
   "execution_count": 4,
   "metadata": {},
   "outputs": [
    {
     "ename": "PermissionError",
     "evalue": "[Errno 13] Permission denied: '/Users/ayesh/Desktop/Gradstuff/duration_judgement/bdr_emoscene/selected_negative/Sn112 - Copy.bmp'",
     "output_type": "error",
     "traceback": [
      "\u001b[1;31m---------------------------------------------------------------------------\u001b[0m",
      "\u001b[1;31mPermissionError\u001b[0m                           Traceback (most recent call last)",
      "\u001b[1;32m<ipython-input-4-1ce200acd93a>\u001b[0m in \u001b[0;36m<module>\u001b[1;34m\u001b[0m\n\u001b[0;32m      5\u001b[0m     \u001b[0mim\u001b[0m \u001b[1;33m=\u001b[0m \u001b[0mImage\u001b[0m\u001b[1;33m.\u001b[0m\u001b[0mopen\u001b[0m \u001b[1;33m(\u001b[0m\u001b[0mimage_dir\u001b[0m \u001b[1;33m+\u001b[0m \u001b[0ma\u001b[0m\u001b[1;33m)\u001b[0m\u001b[1;33m\u001b[0m\u001b[1;33m\u001b[0m\u001b[0m\n\u001b[0;32m      6\u001b[0m     \u001b[0ma_resized\u001b[0m \u001b[1;33m=\u001b[0m \u001b[0mim\u001b[0m\u001b[1;33m.\u001b[0m\u001b[0mresize\u001b[0m\u001b[1;33m(\u001b[0m\u001b[1;33m(\u001b[0m\u001b[1;36m500\u001b[0m\u001b[1;33m,\u001b[0m \u001b[1;36m500\u001b[0m\u001b[1;33m)\u001b[0m\u001b[1;33m,\u001b[0m \u001b[0mImage\u001b[0m\u001b[1;33m.\u001b[0m\u001b[0mANTIALIAS\u001b[0m\u001b[1;33m)\u001b[0m\u001b[1;33m\u001b[0m\u001b[1;33m\u001b[0m\u001b[0m\n\u001b[1;32m----> 7\u001b[1;33m     \u001b[0ma_resized\u001b[0m\u001b[1;33m.\u001b[0m\u001b[0msave\u001b[0m\u001b[1;33m(\u001b[0m\u001b[0mimage_dir\u001b[0m \u001b[1;33m+\u001b[0m \u001b[0ma\u001b[0m\u001b[1;33m,\u001b[0m \u001b[1;34m\"JPEG\"\u001b[0m\u001b[1;33m,\u001b[0m \u001b[0moptimize\u001b[0m\u001b[1;33m=\u001b[0m\u001b[1;32mTrue\u001b[0m\u001b[1;33m)\u001b[0m\u001b[1;33m\u001b[0m\u001b[1;33m\u001b[0m\u001b[0m\n\u001b[0m\u001b[0;32m      8\u001b[0m     \u001b[0ma_size\u001b[0m \u001b[1;33m=\u001b[0m \u001b[0ma_resized\u001b[0m\u001b[1;33m.\u001b[0m\u001b[0msize\u001b[0m\u001b[1;33m,\u001b[0m \u001b[0ma\u001b[0m\u001b[1;33m\u001b[0m\u001b[1;33m\u001b[0m\u001b[0m\n\u001b[0;32m      9\u001b[0m     \u001b[0mprinted_list\u001b[0m\u001b[1;33m.\u001b[0m\u001b[0mappend\u001b[0m\u001b[1;33m(\u001b[0m\u001b[0ma_size\u001b[0m\u001b[1;33m)\u001b[0m\u001b[1;33m\u001b[0m\u001b[1;33m\u001b[0m\u001b[0m\n",
      "\u001b[1;32m~\\Anaconda3\\lib\\site-packages\\PIL\\Image.py\u001b[0m in \u001b[0;36msave\u001b[1;34m(self, fp, format, **params)\u001b[0m\n\u001b[0;32m   2146\u001b[0m                 \u001b[0mfp\u001b[0m \u001b[1;33m=\u001b[0m \u001b[0mbuiltins\u001b[0m\u001b[1;33m.\u001b[0m\u001b[0mopen\u001b[0m\u001b[1;33m(\u001b[0m\u001b[0mfilename\u001b[0m\u001b[1;33m,\u001b[0m \u001b[1;34m\"r+b\"\u001b[0m\u001b[1;33m)\u001b[0m\u001b[1;33m\u001b[0m\u001b[1;33m\u001b[0m\u001b[0m\n\u001b[0;32m   2147\u001b[0m             \u001b[1;32melse\u001b[0m\u001b[1;33m:\u001b[0m\u001b[1;33m\u001b[0m\u001b[1;33m\u001b[0m\u001b[0m\n\u001b[1;32m-> 2148\u001b[1;33m                 \u001b[0mfp\u001b[0m \u001b[1;33m=\u001b[0m \u001b[0mbuiltins\u001b[0m\u001b[1;33m.\u001b[0m\u001b[0mopen\u001b[0m\u001b[1;33m(\u001b[0m\u001b[0mfilename\u001b[0m\u001b[1;33m,\u001b[0m \u001b[1;34m\"w+b\"\u001b[0m\u001b[1;33m)\u001b[0m\u001b[1;33m\u001b[0m\u001b[1;33m\u001b[0m\u001b[0m\n\u001b[0m\u001b[0;32m   2149\u001b[0m \u001b[1;33m\u001b[0m\u001b[0m\n\u001b[0;32m   2150\u001b[0m         \u001b[1;32mtry\u001b[0m\u001b[1;33m:\u001b[0m\u001b[1;33m\u001b[0m\u001b[1;33m\u001b[0m\u001b[0m\n",
      "\u001b[1;31mPermissionError\u001b[0m: [Errno 13] Permission denied: '/Users/ayesh/Desktop/Gradstuff/duration_judgement/bdr_emoscene/selected_negative/Sn112 - Copy.bmp'"
     ]
    }
   ],
   "source": [
    "image_dir = '/Users/ayesh/Desktop/Gradstuff/duration_judgement/bdr_emoscene/selected_negative/'\n",
    "image_list = os.listdir(image_dir)\n",
    "printed_list = []\n",
    "for a in image_list:\n",
    "    im = Image.open (image_dir + a)\n",
    "    a_resized = im.resize((500, 500), Image.ANTIALIAS)\n",
    "    a_resized.save(image_dir + a, \"JPEG\", optimize=True)\n",
    "    a_size = a_resized.size, a\n",
    "    printed_list.append(a_size)"
   ]
  },
  {
   "cell_type": "code",
   "execution_count": 74,
   "metadata": {
    "scrolled": true
   },
   "outputs": [
    {
     "data": {
      "text/plain": [
       "[]"
      ]
     },
     "execution_count": 74,
     "metadata": {},
     "output_type": "execute_result"
    }
   ],
   "source": [
    "neut"
   ]
  },
  {
   "cell_type": "code",
   "execution_count": 75,
   "metadata": {
    "scrolled": true
   },
   "outputs": [
    {
     "data": {
      "text/plain": [
       "['Sn002.jpg',\n",
       " 'Sn012.jpg',\n",
       " 'Sn013.jpg',\n",
       " 'Sn016.jpg',\n",
       " 'Sn017.jpg',\n",
       " 'Sn019.jpg',\n",
       " 'Sn025.jpg',\n",
       " 'Sn026.jpg',\n",
       " 'Sn029.jpg',\n",
       " 'Sn034.jpg',\n",
       " 'Sn044.jpg',\n",
       " 'Sn048.jpg',\n",
       " 'Sn049.jpg',\n",
       " 'Sn058.jpg',\n",
       " 'Sn063.jpg',\n",
       " 'Sn064.jpg',\n",
       " 'Sn071.jpg',\n",
       " 'Sn072.jpg',\n",
       " 'Sn075.jpg',\n",
       " 'Sn081.jpg',\n",
       " 'Sn087.jpg',\n",
       " 'Sn094.jpg',\n",
       " 'Sn098.jpg',\n",
       " 'Sn100.jpg',\n",
       " 'Sn112.jpg',\n",
       " 'Sn124.jpg',\n",
       " 'Sn125.jpg',\n",
       " 'Sn127.jpg',\n",
       " 'Sn130.jpg',\n",
       " 'Sn131.jpg']"
      ]
     },
     "execution_count": 75,
     "metadata": {},
     "output_type": "execute_result"
    }
   ],
   "source": [
    "neg"
   ]
  },
  {
   "cell_type": "code",
   "execution_count": null,
   "metadata": {},
   "outputs": [],
   "source": []
  }
 ],
 "metadata": {
  "kernelspec": {
   "display_name": "Python 3",
   "language": "python",
   "name": "python3"
  },
  "language_info": {
   "codemirror_mode": {
    "name": "ipython",
    "version": 3
   },
   "file_extension": ".py",
   "mimetype": "text/x-python",
   "name": "python",
   "nbconvert_exporter": "python",
   "pygments_lexer": "ipython3",
   "version": "3.8.5"
  }
 },
 "nbformat": 4,
 "nbformat_minor": 4
}
