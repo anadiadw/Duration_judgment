{
 "cells": [
  {
   "cell_type": "code",
   "execution_count": 1,
   "metadata": {},
   "outputs": [],
   "source": [
    "## importing all libraries and dependencies\n",
    "import pandas as pd\n",
    "import numpy as np\n",
    "import os\n",
    "from os import listdir\n",
    "import glob\n",
    "from os.path import isfile, join\n",
    "import shutil\n",
    "import PIL\n",
    "from PIL import Image\n",
    "import random\n",
    "from random import sample\n",
    "import math\n",
    "from heapq import merge\n",
    "from random import *\n",
    "import secrets"
   ]
  },
  {
   "cell_type": "code",
   "execution_count": 2,
   "metadata": {},
   "outputs": [],
   "source": [
    "neg_dir = 'C:/Users/ayesh/Desktop/Gradstuff/duration_judgment/filtered_neg/'\n",
    "neu_dir = 'C:/Users/ayesh/Desktop/Gradstuff/duration_judgment/filtered_neu/'\n",
    "\n",
    "neg_list = 'C:/Users/ayesh/Desktop/Gradstuff/duration_judgment/negative.txt/'\n",
    "neu_list = 'C:/Users/ayesh/Desktop/Gradstuff/duration_judgment/neutral.txt/'"
   ]
  },
  {
   "cell_type": "code",
   "execution_count": 3,
   "metadata": {},
   "outputs": [],
   "source": [
    "neg_files = [f for f in listdir(neg_dir) if isfile(join(neg_dir, f))]\n",
    "neu_files = [f for f in listdir(neu_dir) if isfile(join(neu_dir, f))]"
   ]
  },
  {
   "cell_type": "code",
   "execution_count": 4,
   "metadata": {},
   "outputs": [],
   "source": [
    "neg_pics = []\n",
    "neu_pics = []\n",
    "for i in neu_files:\n",
    "    stimpath = 'filtered_neu/' + i\n",
    "    neu_pics.append(stimpath)\n",
    "    \n",
    "for i in neg_files:\n",
    "    stimpath = 'filtered_neg/' + i\n",
    "    neg_pics.append(stimpath)\n",
    "    \n",
    "shuffle(neu_pics)\n",
    "shuffle(neg_pics)"
   ]
  },
  {
   "cell_type": "markdown",
   "metadata": {},
   "source": [
    "### COLOR TASK"
   ]
  },
  {
   "cell_type": "code",
   "execution_count": 5,
   "metadata": {},
   "outputs": [
    {
     "data": {
      "text/plain": [
       "['g-b', 'b-g', 'y-g']"
      ]
     },
     "execution_count": 5,
     "metadata": {},
     "output_type": "execute_result"
    }
   ],
   "source": [
    "## colors = blue, green, yellow\n",
    "blue =  [0, 0, 255]\n",
    "green = [0, 255, 0]\n",
    "yellow = [255, 255, 0]\n",
    "\n",
    "continious_possibles = ['b', 'g', 'y']\n",
    "boundary_possibles = ['b-g', 'b-y', 'g-y', 'g-b', 'y-b', 'y-g']\n",
    "pt_boundary = sample(boundary_possibles, 3)\n",
    "pt_boundary"
   ]
  },
  {
   "cell_type": "code",
   "execution_count": 6,
   "metadata": {},
   "outputs": [],
   "source": [
    "# 3 trials x 10 timepoints x 2 conditions (continuous/boundary), making it 60 trials total. \n",
    "conditions = ['continious', 'boundary']\n",
    "timepoints = np.arange(0.5, 10.5, 0.5)\n",
    "trials_each = 3"
   ]
  },
  {
   "cell_type": "code",
   "execution_count": 7,
   "metadata": {},
   "outputs": [
    {
     "data": {
      "text/plain": [
       "60"
      ]
     },
     "execution_count": 7,
     "metadata": {},
     "output_type": "execute_result"
    }
   ],
   "source": [
    "### CONTINIOUS DATAFRAME:\n",
    "cont_df1 = pd.DataFrame({'timepoint': timepoints,\n",
    "             'color': continious_possibles[0],\n",
    "            'condition' : conditions[0]})\n",
    "\n",
    "cont_df2 = pd.DataFrame({'timepoint': timepoints,\n",
    "             'color': continious_possibles[1],\n",
    "            'condition' : conditions[0]})\n",
    "\n",
    "cont_df3 = pd.DataFrame({'timepoint': timepoints,\n",
    "             'color': continious_possibles[2],\n",
    "            'condition' : conditions[0]})\n",
    "\n",
    "conts = [cont_df1, cont_df2, cont_df3]\n",
    "continious_df = pd.concat(conts)\n",
    "len(continious_df)"
   ]
  },
  {
   "cell_type": "code",
   "execution_count": 8,
   "metadata": {},
   "outputs": [
    {
     "data": {
      "text/plain": [
       "60"
      ]
     },
     "execution_count": 8,
     "metadata": {},
     "output_type": "execute_result"
    }
   ],
   "source": [
    "### BOUNDARY DATAFRAME:\n",
    "bond_df1 = pd.DataFrame({'timepoint': timepoints,\n",
    "             'color': pt_boundary[0],\n",
    "            'condition' : conditions[1]})\n",
    "\n",
    "bond_df2 = pd.DataFrame({'timepoint': timepoints,\n",
    "             'color': pt_boundary[1],\n",
    "            'condition' : conditions[1]})\n",
    "\n",
    "bond_df3 = pd.DataFrame({'timepoint': timepoints,\n",
    "             'color': pt_boundary[2],\n",
    "            'condition' : conditions[1]})\n",
    "\n",
    "bound = [bond_df1, bond_df2, bond_df3]\n",
    "boundary_df = pd.concat(bound, ignore_index = True)\n",
    "len(boundary_df)\n"
   ]
  },
  {
   "cell_type": "code",
   "execution_count": 9,
   "metadata": {},
   "outputs": [],
   "source": [
    "### write the color values for psychopy\n",
    "continious_df.loc[continious_df['color'] == 'b', 'col_val1'] = str(blue)\n",
    "continious_df.loc[continious_df['color'] == 'y', 'col_val1'] = str(yellow)\n",
    "continious_df.loc[continious_df['color'] == 'g', 'col_val1'] = str(green)\n",
    "\n",
    "continious_df.loc[continious_df['color'] == 'b', 'col_val2'] = str(blue)\n",
    "continious_df.loc[continious_df['color'] == 'y', 'col_val2'] = str(yellow)\n",
    "continious_df.loc[continious_df['color'] == 'g', 'col_val2'] = str(green)\n",
    "\n",
    "bd_col_val1 = []\n",
    "bd_col_val2 = []\n",
    "for index, row in boundary_df.iterrows():\n",
    "    bond_color = boundary_df.color[index]\n",
    "    if bond_color[0] == 'b':\n",
    "        bd_col_val1.append(str(blue))\n",
    "    if bond_color[0] == 'g':\n",
    "        bd_col_val1.append(str(green))\n",
    "    if bond_color[0] == 'y':\n",
    "        bd_col_val1.append(str(yellow))\n",
    "    if bond_color[2] == 'b':\n",
    "        bd_col_val2.append(str(blue))\n",
    "    if bond_color[2] == 'g':\n",
    "        bd_col_val2.append(str(green))\n",
    "    if bond_color[2] == 'y':\n",
    "        bd_col_val2.append(str(yellow))\n",
    "boundary_df['col_val1'] = bd_col_val1\n",
    "boundary_df['col_val2'] = bd_col_val2"
   ]
  },
  {
   "cell_type": "code",
   "execution_count": 10,
   "metadata": {},
   "outputs": [],
   "source": [
    "merge_df = [continious_df, boundary_df]\n",
    "all_df = pd.concat(merge_df, ignore_index=True)\n",
    "all_df['half_timepoint'] = all_df.timepoint/2"
   ]
  },
  {
   "cell_type": "code",
   "execution_count": 11,
   "metadata": {},
   "outputs": [],
   "source": [
    "all_df = all_df.sample(frac = 1)\n",
    "all_df.to_csv('C:/Users/ayesh/Desktop/Gradstuff/duration_judgment/stim_sheet.csv')"
   ]
  },
  {
   "cell_type": "code",
   "execution_count": 12,
   "metadata": {},
   "outputs": [
    {
     "data": {
      "text/html": [
       "<div>\n",
       "<style scoped>\n",
       "    .dataframe tbody tr th:only-of-type {\n",
       "        vertical-align: middle;\n",
       "    }\n",
       "\n",
       "    .dataframe tbody tr th {\n",
       "        vertical-align: top;\n",
       "    }\n",
       "\n",
       "    .dataframe thead th {\n",
       "        text-align: right;\n",
       "    }\n",
       "</style>\n",
       "<table border=\"1\" class=\"dataframe\">\n",
       "  <thead>\n",
       "    <tr style=\"text-align: right;\">\n",
       "      <th></th>\n",
       "      <th>timepoint</th>\n",
       "      <th>color</th>\n",
       "      <th>condition</th>\n",
       "      <th>col_val1</th>\n",
       "      <th>col_val2</th>\n",
       "      <th>half_timepoint</th>\n",
       "    </tr>\n",
       "  </thead>\n",
       "  <tbody>\n",
       "    <tr>\n",
       "      <th>104</th>\n",
       "      <td>2.5</td>\n",
       "      <td>y-g</td>\n",
       "      <td>boundary</td>\n",
       "      <td>[255, 255, 0]</td>\n",
       "      <td>[0, 255, 0]</td>\n",
       "      <td>1.25</td>\n",
       "    </tr>\n",
       "    <tr>\n",
       "      <th>33</th>\n",
       "      <td>7.0</td>\n",
       "      <td>g</td>\n",
       "      <td>continious</td>\n",
       "      <td>[0, 255, 0]</td>\n",
       "      <td>[0, 255, 0]</td>\n",
       "      <td>3.50</td>\n",
       "    </tr>\n",
       "    <tr>\n",
       "      <th>37</th>\n",
       "      <td>9.0</td>\n",
       "      <td>g</td>\n",
       "      <td>continious</td>\n",
       "      <td>[0, 255, 0]</td>\n",
       "      <td>[0, 255, 0]</td>\n",
       "      <td>4.50</td>\n",
       "    </tr>\n",
       "    <tr>\n",
       "      <th>56</th>\n",
       "      <td>8.5</td>\n",
       "      <td>y</td>\n",
       "      <td>continious</td>\n",
       "      <td>[255, 255, 0]</td>\n",
       "      <td>[255, 255, 0]</td>\n",
       "      <td>4.25</td>\n",
       "    </tr>\n",
       "    <tr>\n",
       "      <th>100</th>\n",
       "      <td>0.5</td>\n",
       "      <td>y-g</td>\n",
       "      <td>boundary</td>\n",
       "      <td>[255, 255, 0]</td>\n",
       "      <td>[0, 255, 0]</td>\n",
       "      <td>0.25</td>\n",
       "    </tr>\n",
       "  </tbody>\n",
       "</table>\n",
       "</div>"
      ],
      "text/plain": [
       "     timepoint color   condition       col_val1       col_val2  half_timepoint\n",
       "104        2.5   y-g    boundary  [255, 255, 0]    [0, 255, 0]            1.25\n",
       "33         7.0     g  continious    [0, 255, 0]    [0, 255, 0]            3.50\n",
       "37         9.0     g  continious    [0, 255, 0]    [0, 255, 0]            4.50\n",
       "56         8.5     y  continious  [255, 255, 0]  [255, 255, 0]            4.25\n",
       "100        0.5   y-g    boundary  [255, 255, 0]    [0, 255, 0]            0.25"
      ]
     },
     "execution_count": 12,
     "metadata": {},
     "output_type": "execute_result"
    }
   ],
   "source": [
    "all_df.head()"
   ]
  },
  {
   "cell_type": "code",
   "execution_count": 13,
   "metadata": {},
   "outputs": [
    {
     "data": {
      "text/plain": [
       "array([ 0.5,  1. ,  1.5,  2. ,  2.5,  3. ,  3.5,  4. ,  4.5,  5. ,  5.5,\n",
       "        6. ,  6.5,  7. ,  7.5,  8. ,  8.5,  9. ,  9.5, 10. ])"
      ]
     },
     "execution_count": 13,
     "metadata": {},
     "output_type": "execute_result"
    }
   ],
   "source": [
    "timepoints"
   ]
  },
  {
   "cell_type": "code",
   "execution_count": 14,
   "metadata": {},
   "outputs": [
    {
     "data": {
      "text/plain": [
       "20"
      ]
     },
     "execution_count": 14,
     "metadata": {},
     "output_type": "execute_result"
    }
   ],
   "source": [
    "len(timepoints)"
   ]
  },
  {
   "cell_type": "code",
   "execution_count": null,
   "metadata": {},
   "outputs": [],
   "source": []
  }
 ],
 "metadata": {
  "kernelspec": {
   "display_name": "Python 3",
   "language": "python",
   "name": "python3"
  },
  "language_info": {
   "codemirror_mode": {
    "name": "ipython",
    "version": 3
   },
   "file_extension": ".py",
   "mimetype": "text/x-python",
   "name": "python",
   "nbconvert_exporter": "python",
   "pygments_lexer": "ipython3",
   "version": "3.8.5"
  }
 },
 "nbformat": 4,
 "nbformat_minor": 4
}
