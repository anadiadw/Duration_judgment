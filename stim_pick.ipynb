{
 "cells": [
  {
   "cell_type": "code",
   "execution_count": 1,
   "metadata": {},
   "outputs": [],
   "source": [
    "## importing all libraries and dependencies\n",
    "import pandas as pd\n",
    "import numpy as np\n",
    "import os\n",
    "from os import listdir\n",
    "import glob\n",
    "from os.path import isfile, join\n",
    "import shutil\n",
    "import PIL\n",
    "from PIL import Image\n",
    "import random\n",
    "from random import sample\n",
    "import math\n",
    "from heapq import merge\n",
    "from random import *\n",
    "import secrets"
   ]
  },
  {
   "cell_type": "code",
   "execution_count": 2,
   "metadata": {},
   "outputs": [],
   "source": [
    "neg_dir = 'C:/Users/ayesh/Desktop/Gradstuff/duration_judgment/filtered_neg/'\n",
    "neu_dir = 'C:/Users/ayesh/Desktop/Gradstuff/duration_judgment/filtered_neu/'\n",
    "\n",
    "neg_list = 'C:/Users/ayesh/Desktop/Gradstuff/duration_judgment/negative.txt/'\n",
    "neu_list = 'C:/Users/ayesh/Desktop/Gradstuff/duration_judgment/neutral.txt/'"
   ]
  },
  {
   "cell_type": "code",
   "execution_count": 3,
   "metadata": {},
   "outputs": [],
   "source": [
    "neg_files = [f for f in listdir(neg_dir) if isfile(join(neg_dir, f))]\n",
    "neu_files = [f for f in listdir(neu_dir) if isfile(join(neu_dir, f))]"
   ]
  },
  {
   "cell_type": "code",
   "execution_count": 4,
   "metadata": {},
   "outputs": [],
   "source": [
    "neg_pics = []\n",
    "neu_pics = []\n",
    "for i in neu_files:\n",
    "    stimpath = 'filtered_neu/' + i\n",
    "    neu_pics.append(stimpath)\n",
    "    \n",
    "for i in neg_files:\n",
    "    stimpath = 'filtered_neg/' + i\n",
    "    neg_pics.append(stimpath)\n",
    "    \n",
    "shuffle(neu_pics)\n",
    "shuffle(neg_pics)"
   ]
  },
  {
   "cell_type": "markdown",
   "metadata": {},
   "source": [
    "### COLOR TASK"
   ]
  },
  {
   "cell_type": "code",
   "execution_count": 61,
   "metadata": {},
   "outputs": [
    {
     "data": {
      "text/plain": [
       "['y-g', 'y-b', 'g-y']"
      ]
     },
     "execution_count": 61,
     "metadata": {},
     "output_type": "execute_result"
    }
   ],
   "source": [
    "## colors = blue, green, yellow\n",
    "blue =  [0, 0, 255]\n",
    "green = [0, 255, 0]\n",
    "yellow = [255, 255, 0]\n",
    "\n",
    "continious_possibles = ['b', 'g', 'y']\n",
    "boundary_possibles = ['b-g', 'b-y', 'g-y', 'g-b', 'y-b', 'y-g']\n",
    "pt_boundary = sample(boundary_possibles, 3)\n",
    "pt_boundary"
   ]
  },
  {
   "cell_type": "code",
   "execution_count": 62,
   "metadata": {},
   "outputs": [],
   "source": [
    "# 3 trials x 10 timepoints x 2 conditions (continuous/boundary), making it 60 trials total. \n",
    "conditions = ['continious', 'boundary']\n",
    "timepoints = np.arange(0.5, 5.5, 0.5)\n",
    "trials_each = 3"
   ]
  },
  {
   "cell_type": "code",
   "execution_count": 63,
   "metadata": {},
   "outputs": [
    {
     "data": {
      "text/plain": [
       "30"
      ]
     },
     "execution_count": 63,
     "metadata": {},
     "output_type": "execute_result"
    }
   ],
   "source": [
    "### CONTINIOUS DATAFRAME:\n",
    "cont_df1 = pd.DataFrame({'timepoint': timepoints,\n",
    "             'color': continious_possibles[0],\n",
    "            'condition' : conditions[0]})\n",
    "\n",
    "cont_df2 = pd.DataFrame({'timepoint': timepoints,\n",
    "             'color': continious_possibles[1],\n",
    "            'condition' : conditions[0]})\n",
    "\n",
    "cont_df3 = pd.DataFrame({'timepoint': timepoints,\n",
    "             'color': continious_possibles[2],\n",
    "            'condition' : conditions[0]})\n",
    "\n",
    "conts = [cont_df1, cont_df2, cont_df3]\n",
    "continious_df = pd.concat(conts)\n",
    "len(continious_df)"
   ]
  },
  {
   "cell_type": "code",
   "execution_count": 64,
   "metadata": {},
   "outputs": [
    {
     "data": {
      "text/plain": [
       "30"
      ]
     },
     "execution_count": 64,
     "metadata": {},
     "output_type": "execute_result"
    }
   ],
   "source": [
    "### BOUNDARY DATAFRAME:\n",
    "bond_df1 = pd.DataFrame({'timepoint': timepoints,\n",
    "             'color': pt_boundary[0],\n",
    "            'condition' : conditions[1]})\n",
    "\n",
    "bond_df2 = pd.DataFrame({'timepoint': timepoints,\n",
    "             'color': pt_boundary[1],\n",
    "            'condition' : conditions[1]})\n",
    "\n",
    "bond_df3 = pd.DataFrame({'timepoint': timepoints,\n",
    "             'color': pt_boundary[2],\n",
    "            'condition' : conditions[1]})\n",
    "\n",
    "bound = [bond_df1, bond_df2, bond_df3]\n",
    "boundary_df = pd.concat(bound, ignore_index = True)\n",
    "len(boundary_df)\n"
   ]
  },
  {
   "cell_type": "code",
   "execution_count": 65,
   "metadata": {},
   "outputs": [],
   "source": [
    "### write the color values for psychopy\n",
    "continious_df.loc[continious_df['color'] == 'b', 'col_val1'] = str(blue)\n",
    "continious_df.loc[continious_df['color'] == 'y', 'col_val1'] = str(yellow)\n",
    "continious_df.loc[continious_df['color'] == 'g', 'col_val1'] = str(green)\n",
    "\n",
    "continious_df.loc[continious_df['color'] == 'b', 'col_val2'] = str(blue)\n",
    "continious_df.loc[continious_df['color'] == 'y', 'col_val2'] = str(yellow)\n",
    "continious_df.loc[continious_df['color'] == 'g', 'col_val2'] = str(green)\n",
    "\n",
    "bd_col_val1 = []\n",
    "bd_col_val2 = []\n",
    "for index, row in boundary_df.iterrows():\n",
    "    bond_color = boundary_df.color[index]\n",
    "    if bond_color[0] == 'b':\n",
    "        bd_col_val1.append(str(blue))\n",
    "    if bond_color[0] == 'g':\n",
    "        bd_col_val1.append(str(green))\n",
    "    if bond_color[0] == 'y':\n",
    "        bd_col_val1.append(str(yellow))\n",
    "    if bond_color[2] == 'b':\n",
    "        bd_col_val2.append(str(blue))\n",
    "    if bond_color[2] == 'g':\n",
    "        bd_col_val2.append(str(green))\n",
    "    if bond_color[2] == 'y':\n",
    "        bd_col_val2.append(str(yellow))\n",
    "boundary_df['col_val1'] = bd_col_val1\n",
    "boundary_df['col_val2'] = bd_col_val2"
   ]
  },
  {
   "cell_type": "code",
   "execution_count": 66,
   "metadata": {},
   "outputs": [],
   "source": [
    "merge_df = [continious_df, boundary_df]\n",
    "all_df = pd.concat(merge_df, ignore_index=True)\n",
    "all_df['half_timepoint'] = all_df.timepoint/2"
   ]
  },
  {
   "cell_type": "code",
   "execution_count": 67,
   "metadata": {},
   "outputs": [],
   "source": [
    "all_df = all_df.sample(frac = 1)\n",
    "all_df.to_csv('C:/Users/ayesh/Desktop/Gradstuff/duration_judgment/stim_sheet6.csv')"
   ]
  },
  {
   "cell_type": "code",
   "execution_count": 68,
   "metadata": {},
   "outputs": [
    {
     "data": {
      "text/html": [
       "<div>\n",
       "<style scoped>\n",
       "    .dataframe tbody tr th:only-of-type {\n",
       "        vertical-align: middle;\n",
       "    }\n",
       "\n",
       "    .dataframe tbody tr th {\n",
       "        vertical-align: top;\n",
       "    }\n",
       "\n",
       "    .dataframe thead th {\n",
       "        text-align: right;\n",
       "    }\n",
       "</style>\n",
       "<table border=\"1\" class=\"dataframe\">\n",
       "  <thead>\n",
       "    <tr style=\"text-align: right;\">\n",
       "      <th></th>\n",
       "      <th>timepoint</th>\n",
       "      <th>color</th>\n",
       "      <th>condition</th>\n",
       "      <th>col_val1</th>\n",
       "      <th>col_val2</th>\n",
       "      <th>half_timepoint</th>\n",
       "    </tr>\n",
       "  </thead>\n",
       "  <tbody>\n",
       "    <tr>\n",
       "      <th>7</th>\n",
       "      <td>4.0</td>\n",
       "      <td>b</td>\n",
       "      <td>continious</td>\n",
       "      <td>[0, 0, 255]</td>\n",
       "      <td>[0, 0, 255]</td>\n",
       "      <td>2.00</td>\n",
       "    </tr>\n",
       "    <tr>\n",
       "      <th>36</th>\n",
       "      <td>3.5</td>\n",
       "      <td>y-g</td>\n",
       "      <td>boundary</td>\n",
       "      <td>[255, 255, 0]</td>\n",
       "      <td>[0, 255, 0]</td>\n",
       "      <td>1.75</td>\n",
       "    </tr>\n",
       "    <tr>\n",
       "      <th>37</th>\n",
       "      <td>4.0</td>\n",
       "      <td>y-g</td>\n",
       "      <td>boundary</td>\n",
       "      <td>[255, 255, 0]</td>\n",
       "      <td>[0, 255, 0]</td>\n",
       "      <td>2.00</td>\n",
       "    </tr>\n",
       "    <tr>\n",
       "      <th>33</th>\n",
       "      <td>2.0</td>\n",
       "      <td>y-g</td>\n",
       "      <td>boundary</td>\n",
       "      <td>[255, 255, 0]</td>\n",
       "      <td>[0, 255, 0]</td>\n",
       "      <td>1.00</td>\n",
       "    </tr>\n",
       "    <tr>\n",
       "      <th>49</th>\n",
       "      <td>5.0</td>\n",
       "      <td>y-b</td>\n",
       "      <td>boundary</td>\n",
       "      <td>[255, 255, 0]</td>\n",
       "      <td>[0, 0, 255]</td>\n",
       "      <td>2.50</td>\n",
       "    </tr>\n",
       "  </tbody>\n",
       "</table>\n",
       "</div>"
      ],
      "text/plain": [
       "    timepoint color   condition       col_val1     col_val2  half_timepoint\n",
       "7         4.0     b  continious    [0, 0, 255]  [0, 0, 255]            2.00\n",
       "36        3.5   y-g    boundary  [255, 255, 0]  [0, 255, 0]            1.75\n",
       "37        4.0   y-g    boundary  [255, 255, 0]  [0, 255, 0]            2.00\n",
       "33        2.0   y-g    boundary  [255, 255, 0]  [0, 255, 0]            1.00\n",
       "49        5.0   y-b    boundary  [255, 255, 0]  [0, 0, 255]            2.50"
      ]
     },
     "execution_count": 68,
     "metadata": {},
     "output_type": "execute_result"
    }
   ],
   "source": [
    "all_df.head()"
   ]
  },
  {
   "cell_type": "code",
   "execution_count": 69,
   "metadata": {},
   "outputs": [
    {
     "data": {
      "text/plain": [
       "array([0.5, 1. , 1.5, 2. , 2.5, 3. , 3.5, 4. , 4.5, 5. ])"
      ]
     },
     "execution_count": 69,
     "metadata": {},
     "output_type": "execute_result"
    }
   ],
   "source": [
    "timepoints"
   ]
  },
  {
   "cell_type": "code",
   "execution_count": 70,
   "metadata": {},
   "outputs": [
    {
     "data": {
      "text/plain": [
       "10"
      ]
     },
     "execution_count": 70,
     "metadata": {},
     "output_type": "execute_result"
    }
   ],
   "source": [
    "len(timepoints)"
   ]
  },
  {
   "cell_type": "code",
   "execution_count": 2,
   "metadata": {},
   "outputs": [
    {
     "name": "stdout",
     "output_type": "stream",
     "text": [
      "[0, 1, 2, 3, 4, 5, 6, 7, 8, 9, 10, 11, 12, 13, 14, 15, 16, 17, 18, 19, 20, 21, 22, 23, 24, 25, 26, 27, 28, 29, 30, 31, 32, 33, 34, 35, 36, 37, 38, 39, 40, 41, 42, 43, 44, 45, 46, 47, 48, 49, 50, 51, 52, 53, 54, 55, 56, 57, 58, 59]\n"
     ]
    }
   ],
   "source": [
    "print (list(range(60)))"
   ]
  },
  {
   "cell_type": "code",
   "execution_count": null,
   "metadata": {},
   "outputs": [],
   "source": []
  }
 ],
 "metadata": {
  "kernelspec": {
   "display_name": "Python 3",
   "language": "python",
   "name": "python3"
  },
  "language_info": {
   "codemirror_mode": {
    "name": "ipython",
    "version": 3
   },
   "file_extension": ".py",
   "mimetype": "text/x-python",
   "name": "python",
   "nbconvert_exporter": "python",
   "pygments_lexer": "ipython3",
   "version": "3.8.5"
  }
 },
 "nbformat": 4,
 "nbformat_minor": 4
}
